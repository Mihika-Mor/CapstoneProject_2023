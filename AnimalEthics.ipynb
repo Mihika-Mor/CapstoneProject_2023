{
  "cells": [
    {
      "cell_type": "markdown",
      "metadata": {
        "id": "view-in-github",
        "colab_type": "text"
      },
      "source": [
        "<a href=\"https://colab.research.google.com/github/Mihika-Mor/CapstoneProject_2023/blob/main/AnimalEthics.ipynb\" target=\"_parent\"><img src=\"https://colab.research.google.com/assets/colab-badge.svg\" alt=\"Open In Colab\"/></a>"
      ]
    },
    {
      "cell_type": "code",
      "execution_count": 1,
      "metadata": {
        "colab": {
          "base_uri": "https://localhost:8080/",
          "height": 73
        },
        "id": "ehhzAkSYzubG",
        "outputId": "4a3cc652-a425-45b9-981d-ed3bbdb958c9"
      },
      "outputs": [
        {
          "output_type": "display_data",
          "data": {
            "text/plain": [
              "<IPython.core.display.HTML object>"
            ],
            "text/html": [
              "\n",
              "     <input type=\"file\" id=\"files-bae00ec3-95d9-41d7-9eb9-5a58d98edaa3\" name=\"files[]\" multiple disabled\n",
              "        style=\"border:none\" />\n",
              "     <output id=\"result-bae00ec3-95d9-41d7-9eb9-5a58d98edaa3\">\n",
              "      Upload widget is only available when the cell has been executed in the\n",
              "      current browser session. Please rerun this cell to enable.\n",
              "      </output>\n",
              "      <script>// Copyright 2017 Google LLC\n",
              "//\n",
              "// Licensed under the Apache License, Version 2.0 (the \"License\");\n",
              "// you may not use this file except in compliance with the License.\n",
              "// You may obtain a copy of the License at\n",
              "//\n",
              "//      http://www.apache.org/licenses/LICENSE-2.0\n",
              "//\n",
              "// Unless required by applicable law or agreed to in writing, software\n",
              "// distributed under the License is distributed on an \"AS IS\" BASIS,\n",
              "// WITHOUT WARRANTIES OR CONDITIONS OF ANY KIND, either express or implied.\n",
              "// See the License for the specific language governing permissions and\n",
              "// limitations under the License.\n",
              "\n",
              "/**\n",
              " * @fileoverview Helpers for google.colab Python module.\n",
              " */\n",
              "(function(scope) {\n",
              "function span(text, styleAttributes = {}) {\n",
              "  const element = document.createElement('span');\n",
              "  element.textContent = text;\n",
              "  for (const key of Object.keys(styleAttributes)) {\n",
              "    element.style[key] = styleAttributes[key];\n",
              "  }\n",
              "  return element;\n",
              "}\n",
              "\n",
              "// Max number of bytes which will be uploaded at a time.\n",
              "const MAX_PAYLOAD_SIZE = 100 * 1024;\n",
              "\n",
              "function _uploadFiles(inputId, outputId) {\n",
              "  const steps = uploadFilesStep(inputId, outputId);\n",
              "  const outputElement = document.getElementById(outputId);\n",
              "  // Cache steps on the outputElement to make it available for the next call\n",
              "  // to uploadFilesContinue from Python.\n",
              "  outputElement.steps = steps;\n",
              "\n",
              "  return _uploadFilesContinue(outputId);\n",
              "}\n",
              "\n",
              "// This is roughly an async generator (not supported in the browser yet),\n",
              "// where there are multiple asynchronous steps and the Python side is going\n",
              "// to poll for completion of each step.\n",
              "// This uses a Promise to block the python side on completion of each step,\n",
              "// then passes the result of the previous step as the input to the next step.\n",
              "function _uploadFilesContinue(outputId) {\n",
              "  const outputElement = document.getElementById(outputId);\n",
              "  const steps = outputElement.steps;\n",
              "\n",
              "  const next = steps.next(outputElement.lastPromiseValue);\n",
              "  return Promise.resolve(next.value.promise).then((value) => {\n",
              "    // Cache the last promise value to make it available to the next\n",
              "    // step of the generator.\n",
              "    outputElement.lastPromiseValue = value;\n",
              "    return next.value.response;\n",
              "  });\n",
              "}\n",
              "\n",
              "/**\n",
              " * Generator function which is called between each async step of the upload\n",
              " * process.\n",
              " * @param {string} inputId Element ID of the input file picker element.\n",
              " * @param {string} outputId Element ID of the output display.\n",
              " * @return {!Iterable<!Object>} Iterable of next steps.\n",
              " */\n",
              "function* uploadFilesStep(inputId, outputId) {\n",
              "  const inputElement = document.getElementById(inputId);\n",
              "  inputElement.disabled = false;\n",
              "\n",
              "  const outputElement = document.getElementById(outputId);\n",
              "  outputElement.innerHTML = '';\n",
              "\n",
              "  const pickedPromise = new Promise((resolve) => {\n",
              "    inputElement.addEventListener('change', (e) => {\n",
              "      resolve(e.target.files);\n",
              "    });\n",
              "  });\n",
              "\n",
              "  const cancel = document.createElement('button');\n",
              "  inputElement.parentElement.appendChild(cancel);\n",
              "  cancel.textContent = 'Cancel upload';\n",
              "  const cancelPromise = new Promise((resolve) => {\n",
              "    cancel.onclick = () => {\n",
              "      resolve(null);\n",
              "    };\n",
              "  });\n",
              "\n",
              "  // Wait for the user to pick the files.\n",
              "  const files = yield {\n",
              "    promise: Promise.race([pickedPromise, cancelPromise]),\n",
              "    response: {\n",
              "      action: 'starting',\n",
              "    }\n",
              "  };\n",
              "\n",
              "  cancel.remove();\n",
              "\n",
              "  // Disable the input element since further picks are not allowed.\n",
              "  inputElement.disabled = true;\n",
              "\n",
              "  if (!files) {\n",
              "    return {\n",
              "      response: {\n",
              "        action: 'complete',\n",
              "      }\n",
              "    };\n",
              "  }\n",
              "\n",
              "  for (const file of files) {\n",
              "    const li = document.createElement('li');\n",
              "    li.append(span(file.name, {fontWeight: 'bold'}));\n",
              "    li.append(span(\n",
              "        `(${file.type || 'n/a'}) - ${file.size} bytes, ` +\n",
              "        `last modified: ${\n",
              "            file.lastModifiedDate ? file.lastModifiedDate.toLocaleDateString() :\n",
              "                                    'n/a'} - `));\n",
              "    const percent = span('0% done');\n",
              "    li.appendChild(percent);\n",
              "\n",
              "    outputElement.appendChild(li);\n",
              "\n",
              "    const fileDataPromise = new Promise((resolve) => {\n",
              "      const reader = new FileReader();\n",
              "      reader.onload = (e) => {\n",
              "        resolve(e.target.result);\n",
              "      };\n",
              "      reader.readAsArrayBuffer(file);\n",
              "    });\n",
              "    // Wait for the data to be ready.\n",
              "    let fileData = yield {\n",
              "      promise: fileDataPromise,\n",
              "      response: {\n",
              "        action: 'continue',\n",
              "      }\n",
              "    };\n",
              "\n",
              "    // Use a chunked sending to avoid message size limits. See b/62115660.\n",
              "    let position = 0;\n",
              "    do {\n",
              "      const length = Math.min(fileData.byteLength - position, MAX_PAYLOAD_SIZE);\n",
              "      const chunk = new Uint8Array(fileData, position, length);\n",
              "      position += length;\n",
              "\n",
              "      const base64 = btoa(String.fromCharCode.apply(null, chunk));\n",
              "      yield {\n",
              "        response: {\n",
              "          action: 'append',\n",
              "          file: file.name,\n",
              "          data: base64,\n",
              "        },\n",
              "      };\n",
              "\n",
              "      let percentDone = fileData.byteLength === 0 ?\n",
              "          100 :\n",
              "          Math.round((position / fileData.byteLength) * 100);\n",
              "      percent.textContent = `${percentDone}% done`;\n",
              "\n",
              "    } while (position < fileData.byteLength);\n",
              "  }\n",
              "\n",
              "  // All done.\n",
              "  yield {\n",
              "    response: {\n",
              "      action: 'complete',\n",
              "    }\n",
              "  };\n",
              "}\n",
              "\n",
              "scope.google = scope.google || {};\n",
              "scope.google.colab = scope.google.colab || {};\n",
              "scope.google.colab._files = {\n",
              "  _uploadFiles,\n",
              "  _uploadFilesContinue,\n",
              "};\n",
              "})(self);\n",
              "</script> "
            ]
          },
          "metadata": {}
        },
        {
          "output_type": "stream",
          "name": "stdout",
          "text": [
            "Saving Test2pp.docx to Test2pp.docx\n"
          ]
        }
      ],
      "source": [
        "from google.colab import files\n",
        "uploaded = files.upload()\n",
        "\n"
      ]
    },
    {
      "cell_type": "code",
      "execution_count": 2,
      "metadata": {
        "colab": {
          "base_uri": "https://localhost:8080/"
        },
        "id": "fgRAJmIC0D35",
        "outputId": "34ad67c3-27cd-498d-8593-ecf530a2d05b"
      },
      "outputs": [
        {
          "output_type": "stream",
          "name": "stdout",
          "text": [
            "Collecting python-docx\n",
            "  Downloading python-docx-0.8.11.tar.gz (5.6 MB)\n",
            "\u001b[2K     \u001b[90m━━━━━━━━━━━━━━━━━━━━━━━━━━━━━━━━━━━━━━━━\u001b[0m \u001b[32m5.6/5.6 MB\u001b[0m \u001b[31m18.3 MB/s\u001b[0m eta \u001b[36m0:00:00\u001b[0m\n",
            "\u001b[?25h  Preparing metadata (setup.py) ... \u001b[?25l\u001b[?25hdone\n",
            "Requirement already satisfied: lxml>=2.3.2 in /usr/local/lib/python3.10/dist-packages (from python-docx) (4.9.3)\n",
            "Building wheels for collected packages: python-docx\n",
            "  Building wheel for python-docx (setup.py) ... \u001b[?25l\u001b[?25hdone\n",
            "  Created wheel for python-docx: filename=python_docx-0.8.11-py3-none-any.whl size=184487 sha256=388310435a355a5517a6867d4834a15e2e93cb5a1248b922dfd691ecb2682397\n",
            "  Stored in directory: /root/.cache/pip/wheels/80/27/06/837436d4c3bd989b957a91679966f207bfd71d358d63a8194d\n",
            "Successfully built python-docx\n",
            "Installing collected packages: python-docx\n",
            "Successfully installed python-docx-0.8.11\n"
          ]
        }
      ],
      "source": [
        "#!pip install docx2txt\n",
        "# !pip install docx #will give exceptions error\n",
        "# !pip install python-docx"
      ]
    },
    {
      "cell_type": "code",
      "execution_count": 39,
      "metadata": {
        "id": "pBwQLSUGYE8B"
      },
      "outputs": [],
      "source": [
        "from docx import Document\n",
        "from docx.document import Document as _Document\n",
        "from docx.oxml.text.paragraph import CT_P\n",
        "from docx.oxml.table import CT_Tbl\n",
        "from docx.table import _Cell, Table\n",
        "from docx.text.paragraph import Paragraph\n",
        "from docx.shared import Pt\n",
        "from docx.enum.text import WD_PARAGRAPH_ALIGNMENT"
      ]
    },
    {
      "cell_type": "code",
      "source": [
        "# Define the desired font and size (Times New Roman, size 12)\n",
        "font_name = 'Trebuchet MS'\n",
        "font_size = Pt(14)"
      ],
      "metadata": {
        "id": "JW72CzaL-S-x"
      },
      "execution_count": null,
      "outputs": []
    },
    {
      "cell_type": "code",
      "execution_count": 5,
      "metadata": {
        "id": "yVgkxuu2fpbW"
      },
      "outputs": [],
      "source": [
        "document = Document('Test2pp.docx')"
      ]
    },
    {
      "cell_type": "code",
      "source": [
        "for content in document.paragraphs:\n",
        "    if content.style.name=='Heading 1' or content.style.name=='Heading 2' or content.style.name=='Heading 3' or (content.style.name=='List Paragraph' and content.style=='bold') or content.style=='List Bullet':\n",
        "        print (content.text)"
      ],
      "metadata": {
        "colab": {
          "base_uri": "https://localhost:8080/"
        },
        "id": "3SSeauibzpMR",
        "outputId": "be9d2080-fd6e-4688-f5fb-6471f64370e8"
      },
      "execution_count": 10,
      "outputs": [
        {
          "output_type": "stream",
          "name": "stdout",
          "text": [
            "Primary Applicant\n",
            "Other Applicant/s\n",
            "Provide a lay description of the project, its hypothesis and aims.\n",
            "Using lay language describe what happens to the animals from the time they are obtained until the time the project is completed.\n",
            "Background scientific data, experimental plan and flow chart\n",
            "THE ANIMALS\n",
            "If only one gender is to be used, please justify why.\n",
            "Animal source and housing\n",
            "Animal Number Justification\n",
            "If a power calculation is not applicable, (e.g. collection of tissue samples for in vitro experiments), explain how the animal numbers have been calculated.\n",
            "Is the acquisition, retention or use of the animals subject to any permit, law or regulation of the State or Commonwealth?\n",
            "ETHICS AND WELFARE\n",
            "Substances to be administered\n",
            "If this project involves the use of an administered substance/ compound for which you do not have full knowledge of its effects, how are you going to manage this (e.g. perform a Pilot Study)?\n",
            "If this is a disease model, include a description of how the model works. Detail the effects of progression of the disease process, identify humane endpoints, and explain your previous experience with the model.\n",
            "Detail the monitoring that will be made of the animals during the experiment, especially if surgery is performed or illness is being induced.\n",
            "List & describe any expected adverse effects of this project\n",
            "Pre- and post-operative care (for projects involving surgery)\n",
            "What will happen to the animal at the end of the procedure or project?\n",
            "Please discuss the ethical issues that the AEC will need to consider when reviewing this proposed experimentation. Your answer should address the 3Rs, Replacement, Reduction & Refinement. (See Clauses 1.18–1.30 of ).\n",
            "OTHER INFORMATION\n",
            "In what way does this application relate to your previous or concurrent work? What new information or understanding will this project provide?\n",
            "Published articles relevant to this application\n",
            "Do you propose to publish the results? If not, please explain why.\n",
            "What peer review process has been used for this application?\n",
            "Does this project require any other UniSA Committee approvals?\n",
            "Does this project involve the use of unsealed radioisotopes?\n",
            "Other safety and regulatory matters\n",
            "Section 2: Other Applicants’ Declaration\n",
            "Section 4: Signature of Facility Manager (or delegate)\n"
          ]
        }
      ]
    },
    {
      "cell_type": "code",
      "source": [
        "for content in document.paragraphs:\n",
        "     if content.style=='List Bullet' and content.run.bold:\n",
        "      print(content.text)\n"
      ],
      "metadata": {
        "id": "EVO1aWKCzpO0"
      },
      "execution_count": 24,
      "outputs": []
    },
    {
      "cell_type": "code",
      "source": [
        "# # for paragraph in document.paragraphs:\n",
        "#     if any(run.bold for run in paragraph.runs):\n",
        "#         print(paragraph.text)"
      ],
      "metadata": {
        "id": "jFqDYh7CzpRs"
      },
      "execution_count": 27,
      "outputs": []
    },
    {
      "cell_type": "code",
      "source": [
        "for content in document.paragraphs:\n",
        "    if (content.style.name=='Heading 1' or content.style.name=='Heading 2' or content.style.name=='Heading 3')  :\n",
        "        print(content.text)"
      ],
      "metadata": {
        "colab": {
          "base_uri": "https://localhost:8080/"
        },
        "id": "VErFpaJezpUa",
        "outputId": "65539c9b-8829-4f17-8fb2-73aa760e8884"
      },
      "execution_count": 58,
      "outputs": [
        {
          "output_type": "stream",
          "name": "stdout",
          "text": [
            "Primary Applicant\n",
            "Other Applicant/s\n",
            "Provide a lay description of the project, its hypothesis and aims.\n",
            "Using lay language describe what happens to the animals from the time they are obtained until the time the project is completed.\n",
            "Background scientific data, experimental plan and flow chart\n",
            "THE ANIMALS\n",
            "If only one gender is to be used, please justify why.\n",
            "Animal source and housing\n",
            "Animal Number Justification\n",
            "If a power calculation is not applicable, (e.g. collection of tissue samples for in vitro experiments), explain how the animal numbers have been calculated.\n",
            "Is the acquisition, retention or use of the animals subject to any permit, law or regulation of the State or Commonwealth?\n",
            "ETHICS AND WELFARE\n",
            "Substances to be administered\n",
            "If this project involves the use of an administered substance/ compound for which you do not have full knowledge of its effects, how are you going to manage this (e.g. perform a Pilot Study)?\n",
            "If this is a disease model, include a description of how the model works. Detail the effects of progression of the disease process, identify humane endpoints, and explain your previous experience with the model.\n",
            "Detail the monitoring that will be made of the animals during the experiment, especially if surgery is performed or illness is being induced.\n",
            "List & describe any expected adverse effects of this project\n",
            "Pre- and post-operative care (for projects involving surgery)\n",
            "What will happen to the animal at the end of the procedure or project?\n",
            "Please discuss the ethical issues that the AEC will need to consider when reviewing this proposed experimentation. Your answer should address the 3Rs, Replacement, Reduction & Refinement. (See Clauses 1.18–1.30 of ).\n",
            "OTHER INFORMATION\n",
            "In what way does this application relate to your previous or concurrent work? What new information or understanding will this project provide?\n",
            "Published articles relevant to this application\n",
            "Do you propose to publish the results? If not, please explain why.\n",
            "What peer review process has been used for this application?\n",
            "Does this project require any other UniSA Committee approvals?\n",
            "Does this project involve the use of unsealed radioisotopes?\n",
            "Other safety and regulatory matters\n",
            "Section 2: Other Applicants’ Declaration\n",
            "Section 4: Signature of Facility Manager (or delegate)\n"
          ]
        }
      ]
    },
    {
      "cell_type": "code",
      "source": [
        "for content in document.paragraphs:\n",
        "    if  content.style.name=='Heading 1':\n",
        "        print(content.text)"
      ],
      "metadata": {
        "colab": {
          "base_uri": "https://localhost:8080/"
        },
        "id": "S_H_HVS_zpXY",
        "outputId": "6bac26c5-ef52-460a-a829-2cdd27af3007"
      },
      "execution_count": 86,
      "outputs": [
        {
          "output_type": "stream",
          "name": "stdout",
          "text": [
            "THE ANIMALS\n",
            "ETHICS AND WELFARE\n",
            "OTHER INFORMATION\n"
          ]
        }
      ]
    },
    {
      "cell_type": "code",
      "source": [
        "for content in document.paragraphs:\n",
        "    if ( ((content.style.name=='List Paragraph' and  any(run.font.size == Pt(14) for run in content.runs)) or (content.style.name=='Heading 1' or content.style.name=='Heading 2' )) ):\n",
        "\n",
        "        print(content.text)"
      ],
      "metadata": {
        "colab": {
          "base_uri": "https://localhost:8080/"
        },
        "id": "OiSk5pl0zpZ9",
        "outputId": "016ba397-eb9c-4010-a012-97e5f0ddae08"
      },
      "execution_count": 88,
      "outputs": [
        {
          "output_type": "stream",
          "name": "stdout",
          "text": [
            "Primary Applicant\n",
            "Other Applicant/s\n",
            "Short lay summary (100-150 words maximum)\n",
            "Provide a lay description of the project, its hypothesis and aims.\n",
            "Using lay language describe what happens to the animals from the time they are obtained until the time the project is completed.\n",
            "Background scientific data, experimental plan and flow chart\n",
            "Purpose of the project (select single (primary) purpose only)\n",
            "THE ANIMALS\n",
            "Animals required\n",
            "List\tthe\twelfare\tconcerns\tspecific\tto\tmutant/GM\tstrains\tif applicable\t\tN/A\n",
            "Why are you using this species and strain?\n",
            "If only one gender is to be used, please justify why.\n",
            "Animal source and housing\n",
            "Animal Number Justification\n",
            "If a power calculation is applicable, detail below how the animal numbers are derived.\n",
            "If a power calculation is not applicable, (e.g. collection of tissue samples for in vitro experiments), explain how the animal numbers have been calculated.\n",
            "Is the acquisition, retention or use of the animals subject to any permit, law or regulation of the State or Commonwealth?\n",
            "Yes\t☒ No\n",
            "ETHICS AND WELFARE\n",
            "Procedure category (select all appropriate categories)\n",
            "Procedural Pain/Distress (select all appropriate categories)\n",
            "Substances to be administered\n",
            "What experience do you have in using these substances?\n",
            "If this project involves the use of an administered substance/ compound for which you do not have full knowledge of its effects, how are you going to manage this (e.g. perform a Pilot Study)?\n",
            "If this is a disease model, include a description of how the model works. Detail the effects of progression of the disease process, identify humane endpoints, and explain your previous experience with the model.\n",
            "Detail the monitoring that will be made of the animals during the experiment, especially if surgery is performed or illness is being induced.\n",
            "List & describe any expected adverse effects of this project\n",
            "Pre- and post-operative care (for projects involving surgery)\n",
            "What will happen to the animal at the end of the procedure or project?\n",
            "Please discuss the ethical issues that the AEC will need to consider when reviewing this proposed experimentation. Your answer should address the 3Rs, Replacement, Reduction & Refinement. (See Clauses 1.18–1.30 of ).\n",
            "OTHER INFORMATION\n",
            "In what way does this application relate to your previous or concurrent work? What new information or understanding will this project provide?\n",
            "Published articles relevant to this application\n",
            "Do you propose to publish the results? If not, please explain why.\n",
            "What peer review process has been used for this application?\n",
            "Does this project require any other UniSA Committee approvals?\n",
            "Yes\t☒ No\n",
            "Does this project involve the use of unsealed radioisotopes?\n",
            "Yes\t☒ No\n",
            "Other safety and regulatory matters\n",
            "Credentials of all those involved in the project\n",
            "Dual/multiple AEC approval\n",
            "Yes\t☒ No\n",
            "Attachments checklist\n",
            "Declarations\n",
            "Section 2: Other Applicants’ Declaration\n",
            "Section 4: Signature of Facility Manager (or delegate)\n"
          ]
        }
      ]
    },
    {
      "cell_type": "code",
      "source": [
        " T T=T\n",
        " F T F"
      ],
      "metadata": {
        "colab": {
          "base_uri": "https://localhost:8080/",
          "height": 140
        },
        "id": "KrdzPIXEDKtP",
        "outputId": "3daad562-4502-4623-fb35-6e1dc60c75f0"
      },
      "execution_count": 78,
      "outputs": [
        {
          "output_type": "error",
          "ename": "SyntaxError",
          "evalue": "ignored",
          "traceback": [
            "\u001b[0;36m  File \u001b[0;32m\"<ipython-input-78-1e3aabbde7b3>\"\u001b[0;36m, line \u001b[0;32m1\u001b[0m\n\u001b[0;31m    T T=T\u001b[0m\n\u001b[0m      ^\u001b[0m\n\u001b[0;31mSyntaxError\u001b[0m\u001b[0;31m:\u001b[0m invalid syntax\n"
          ]
        }
      ]
    },
    {
      "cell_type": "code",
      "source": [],
      "metadata": {
        "id": "c8hLaa5LDKwK"
      },
      "execution_count": null,
      "outputs": []
    },
    {
      "cell_type": "code",
      "source": [],
      "metadata": {
        "id": "1KSzfDmfDKyu"
      },
      "execution_count": null,
      "outputs": []
    },
    {
      "cell_type": "code",
      "source": [],
      "metadata": {
        "id": "c450-G27DK1l"
      },
      "execution_count": null,
      "outputs": []
    },
    {
      "cell_type": "code",
      "source": [],
      "metadata": {
        "id": "EFmVpWdbDK38"
      },
      "execution_count": null,
      "outputs": []
    },
    {
      "cell_type": "code",
      "source": [],
      "metadata": {
        "id": "KkKakeBCDK6n"
      },
      "execution_count": null,
      "outputs": []
    },
    {
      "cell_type": "code",
      "source": [],
      "metadata": {
        "id": "6zya9Qm7DK9e"
      },
      "execution_count": null,
      "outputs": []
    },
    {
      "cell_type": "code",
      "source": [],
      "metadata": {
        "id": "JIaq0TqBDLAl"
      },
      "execution_count": null,
      "outputs": []
    },
    {
      "cell_type": "code",
      "execution_count": null,
      "metadata": {
        "id": "RDiMX37V_kV-"
      },
      "outputs": [],
      "source": []
    },
    {
      "cell_type": "code",
      "execution_count": null,
      "metadata": {
        "id": "_X2PxoI-fe1T"
      },
      "outputs": [],
      "source": [
        "def iter_block_items(parent):\n",
        "    if isinstance(parent, _Document):\n",
        "        parent_elm = parent.element.body\n",
        "    elif isinstance(parent, _Cell):\n",
        "        parent_elm = parent._tc\n",
        "    elif isinstance(parent, _Row):\n",
        "        parent_elm = parent._tr\n",
        "    else:\n",
        "        raise ValueError(\"something's not right\")\n",
        "    for child in parent_elm.iterchildren():\n",
        "        if isinstance(child, CT_P):\n",
        "            yield Paragraph(child, parent)\n",
        "        elif isinstance(child, CT_Tbl):\n",
        "            yield Table(child, parent)"
      ]
    },
    {
      "cell_type": "code",
      "execution_count": null,
      "metadata": {
        "colab": {
          "base_uri": "https://localhost:8080/"
        },
        "id": "FRT-xk8My7gB",
        "outputId": "451f7413-51cd-40f3-fb6b-80c7a500aaab"
      },
      "outputs": [
        {
          "name": "stdout",
          "output_type": "stream",
          "text": [
            "Purpose of the project (select single (primary) purpose only)\n",
            "\n",
            "<table>\n",
            "NO\n",
            "The understanding of human or animal biology.\n",
            "YES\n",
            " The maintenance or improvement of human or animal welfare.\n",
            "NO\n",
            "The improvement of animal management or production.\n",
            "NO\n",
            "The achievement of education objectives.\n",
            "NO\n",
            "Environmental study.\n",
            "THE ANIMALS\n",
            "Animals required\n",
            "\n",
            "<table>\n",
            "Common Name Scientific Name  Strain  Sex Age or Size Total number for duration of project Explanation if total number is unknown\n",
            " Mouse Mus musculus  C57Bl/6 M and F  7 weeks  528 \n",
            "\n"
          ]
        }
      ],
      "source": [
        "found_checked_box = False\n",
        "first=second=\"A\"\n",
        "checked_symbol = \"☒\"\n",
        "for block in iter_block_items(document):\n",
        "\n",
        "    print(block.text if isinstance(block, Paragraph) else '<table>')\n",
        "    if isinstance(block, Paragraph):\n",
        "      # print(block.text)\n",
        "      if checked_symbol in block.text:\n",
        "        # Split the paragraph into individual lines\n",
        "        lines = block.text.split('\\t')\n",
        "        for line in lines:\n",
        "            # Check if the line contains the checked symbol\n",
        "            if checked_symbol in line:\n",
        "                print(line)\n",
        "\n",
        "\n",
        "    elif isinstance(block, Table):\n",
        "\n",
        "        i=1\n",
        "        for row in block.rows: #1\n",
        "            table_text=\"\"\n",
        "            i=1\n",
        "            row_data = [] #list\n",
        "            for cell in row.cells:#2\n",
        "              # row_data.append(\"Cell\")\n",
        "              i=i+1\n",
        "              # print(i, \" \",cell.text)\n",
        "              first=second\n",
        "              second=cell.text\n",
        "              if first == second:\n",
        "                continue\n",
        "\n",
        "              for paragraph in cell.paragraphs:\n",
        "                if \"☒\" in paragraph.text:\n",
        "                  print(\"YES\")\n",
        "                  # row_data.append(\"☒*\")\n",
        "                  # Set the flag to indicate a checkbox is found\n",
        "                  found_checked_box = True\n",
        "                  text_parts = paragraph.text.split(\"☒\")\n",
        "                  # print(text_parts,\"%%\")\n",
        "                  if \"☐\" in text_parts:\n",
        "                    text_parts = text_parts.split(\"☐\")\n",
        "                  row_data.append(text_parts[1].strip())\n",
        "                    # print(text_parts[0].strip())\n",
        "                elif \"☐\" in paragraph.text:\n",
        "                  print(\"NO\")\n",
        "                  break\n",
        "                else:\n",
        "                  row_data.append(paragraph.text)\n",
        "\n",
        "\n",
        "\n",
        "            print(\" \".join(row_data))\n"
      ]
    },
    {
      "cell_type": "markdown",
      "metadata": {
        "id": "DJ8uWcDr7XSu"
      },
      "source": [
        "# 1.1\tPurpose of the project (select single (primary) purpose only)"
      ]
    },
    {
      "cell_type": "code",
      "execution_count": null,
      "metadata": {
        "colab": {
          "base_uri": "https://localhost:8080/"
        },
        "id": "uleMPRt83Ger",
        "outputId": "65fb6cbc-ec12-4534-c24a-1d9c209d2f88"
      },
      "outputs": [
        {
          "name": "stdout",
          "output_type": "stream",
          "text": [
            "☒ The maintenance or improvement of human or animal welfare. \n",
            "☒ Minor Conscious Intervention: No Anaesthesia (e.g. injections; leg-banding; blood sampling; fitting radio-collars; attaching transmitters with glue or tape; toe or ear clipping for identification purposes; implanting microchips without anaesthesia) \n",
            "☒ Minor Procedures with Recovery (e.g. Organ biopsies; attaching radio-collars or\n",
            "transmitters under anaesthesia; implanting microchips under anaesthesia; removing teeth; micro CT) \n",
            "☒ Major Physiological Challenge (e.g. major infection; advanced oncogenesis, with or without metastases; environmental deprivation for extended periods) \n",
            "\n"
          ]
        }
      ],
      "source": [
        "table_text = ''\n",
        "table__text=''\n",
        "# Iterate through the tables in the document\n",
        "for table in document.tables:\n",
        "    for row in table.rows:\n",
        "        table__text=''\n",
        "        for cell in row.cells:\n",
        "            # Append the text from each cell to the table_text string\n",
        "            table__text += cell.text.strip() + ' '  # Add a space between cell values\n",
        "            if \"☐\" in cell.text.strip():\n",
        "              break;\n",
        "            if \"☒\" in cell.text.strip():\n",
        "               continue\n",
        "               table__text += cell.text.strip()\n",
        "            table_text +=  table__text +'\\n'  # Add a newline after each row\n",
        "print(table_text)"
      ]
    },
    {
      "cell_type": "markdown",
      "metadata": {
        "id": "xrZFTI5d7eBH"
      },
      "source": [
        "# 2.1\tAnimals required\n"
      ]
    },
    {
      "cell_type": "code",
      "execution_count": null,
      "metadata": {
        "colab": {
          "base_uri": "https://localhost:8080/"
        },
        "id": "xx8O0fgc9o3G",
        "outputId": "a7b3493d-59c9-4096-b475-59457bc1679e"
      },
      "outputs": [
        {
          "name": "stdout",
          "output_type": "stream",
          "text": [
            "[{'Common Name': 'Mouse', 'Scientific Name': 'Mus musculus', 'Strain': 'C57Bl/6', 'Sex': 'M\\nand F'}]\n"
          ]
        }
      ],
      "source": [
        "table_data = []\n",
        "\n",
        "# Initialize a list to store the column names (header row)\n",
        "column_names = []\n",
        "\n",
        "# Iterate through the tables in the document (assuming one table)\n",
        "for table in document.tables:\n",
        "    for i, cell in enumerate(table.rows[0].cells):\n",
        "        column_name = cell.text.strip()\n",
        "        column_names.append(column_name)\n",
        "\n",
        "    # Iterate through the rows (skip the header row)\n",
        "    for row in table.rows[1:]:\n",
        "        row_data = {}\n",
        "        for i, cell in enumerate(row.cells):\n",
        "            row_data[column_names[i]] = cell.text.strip()\n",
        "        table_data.append(row_data)\n",
        "\n",
        "# Now, 'table_data' contains the table values organized as a list of dictionaries, with each dictionary representing a row\n",
        "print(table_data)"
      ]
    },
    {
      "cell_type": "code",
      "execution_count": null,
      "metadata": {
        "colab": {
          "base_uri": "https://localhost:8080/"
        },
        "id": "fwgUtMqL9o6d",
        "outputId": "002e87fe-328f-45ac-8678-b1fd44a6b11d"
      },
      "outputs": [
        {
          "name": "stdout",
          "output_type": "stream",
          "text": [
            "{'Common Name': ['Mouse'], 'Scientific Name': ['Mus musculus'], 'Strain': ['C57Bl/6'], 'Sex': ['M\\nand F']}\n"
          ]
        }
      ],
      "source": [
        "desired_column_names = ['Common Name', 'Scientific Name', 'Strain','Sex']\n",
        "table_data = {column_name: [] for column_name in desired_column_names}\n",
        "\n",
        "# Initialize a mapping of column names to their corresponding indices\n",
        "column_indices = {}\n",
        "\n",
        "# Iterate through the tables in the document (assuming one table)\n",
        "for table in document.tables:\n",
        "    for i, cell in enumerate(table.rows[0].cells):\n",
        "        column_name = cell.text.strip()\n",
        "        column_indices[column_name] = i\n",
        "\n",
        "    # Iterate through the rows (skip the header row)\n",
        "    for row in table.rows[1:]:\n",
        "        for desired_column in desired_column_names:\n",
        "            column_index = column_indices.get(desired_column)\n",
        "            if column_index is not None:\n",
        "                cell = row.cells[column_index]\n",
        "                table_data[desired_column].append(cell.text.strip())\n",
        "print(table_data)"
      ]
    },
    {
      "cell_type": "code",
      "execution_count": null,
      "metadata": {
        "id": "B5_7FwTe_v5d"
      },
      "outputs": [],
      "source": []
    },
    {
      "cell_type": "code",
      "execution_count": null,
      "metadata": {
        "id": "Uvvk-QCh13PE"
      },
      "outputs": [],
      "source": []
    },
    {
      "cell_type": "code",
      "execution_count": null,
      "metadata": {
        "id": "p5zsQWvF1QUB"
      },
      "outputs": [],
      "source": []
    },
    {
      "cell_type": "code",
      "execution_count": null,
      "metadata": {
        "id": "ebmXO_SN1QW9"
      },
      "outputs": [],
      "source": []
    },
    {
      "cell_type": "code",
      "execution_count": null,
      "metadata": {
        "id": "DlNXwBMm1QZ8"
      },
      "outputs": [],
      "source": []
    },
    {
      "cell_type": "code",
      "execution_count": null,
      "metadata": {
        "id": "FvBeLWPQ1Qc6"
      },
      "outputs": [],
      "source": [
        "# #DO NOT TOUCH\n",
        "# found_checked_box = False\n",
        "# first=second=\"A\"\n",
        "# checked_symbol = \"☒\"\n",
        "# for block in iter_block_items(document):\n",
        "#     print(block.text if isinstance(block, Paragraph) else '<table>')\n",
        "#     if isinstance(block, Paragraph):\n",
        "#       # print(block.text)\n",
        "#       if checked_symbol in block.text:\n",
        "#         # Split the paragraph into individual lines\n",
        "#         lines = block.text.split('\\t')\n",
        "#         for line in lines:\n",
        "#             # Check if the line contains the checked symbol\n",
        "#             if checked_symbol in line:\n",
        "#                 print(line)\n",
        "#     elif isinstance(block, Table):\n",
        "#         i=1\n",
        "#         for row in block.rows: #1\n",
        "#             i=1\n",
        "#             row_data = [] #list\n",
        "#             for cell in row.cells:#2\n",
        "\n",
        "#               # row_data.append(\"Cell\")\n",
        "#               i=i+1\n",
        "#               # print(i, \" \",cell.text)\n",
        "#               first=second\n",
        "#               second=cell.text\n",
        "#               if first == second:\n",
        "#                 continue\n",
        "\n",
        "#               for paragraph in cell.paragraphs:\n",
        "#                 if \"☒\" in paragraph.text:\n",
        "#                   # row_data.append(\"☒*\")\n",
        "#                   # Set the flag to indicate a checkbox is found\n",
        "#                   found_checked_box = True\n",
        "#                   text_parts = paragraph.text.split(\"☒\")\n",
        "#                   # print(text_parts,\"%%\")\n",
        "#                   if \"☐\" in text_parts:\n",
        "#                     text_parts = text_parts.split(\"☐\")\n",
        "#                   row_data.append(text_parts[1].strip())\n",
        "#                     # print(text_parts[0].strip())\n",
        "#                 elif \"☐\" in paragraph.text:\n",
        "#                   continue\n",
        "#                 else:\n",
        "#                   row_data.append(paragraph.text)\n",
        "\n",
        "\n",
        "\n",
        "#             print(\" \".join(row_data))\n"
      ]
    },
    {
      "cell_type": "code",
      "execution_count": null,
      "metadata": {
        "id": "ACRfUjh171xT"
      },
      "outputs": [],
      "source": []
    },
    {
      "cell_type": "code",
      "execution_count": null,
      "metadata": {
        "id": "Oqnk1SYatKS-"
      },
      "outputs": [],
      "source": []
    },
    {
      "cell_type": "code",
      "execution_count": null,
      "metadata": {
        "id": "jXCrm0VvtKV3"
      },
      "outputs": [],
      "source": []
    },
    {
      "cell_type": "code",
      "execution_count": null,
      "metadata": {
        "id": "313SG4MPtKY9"
      },
      "outputs": [],
      "source": []
    },
    {
      "cell_type": "code",
      "execution_count": null,
      "metadata": {
        "id": "ozwTVpV7tKcD"
      },
      "outputs": [],
      "source": []
    },
    {
      "cell_type": "code",
      "execution_count": null,
      "metadata": {
        "id": "cJCE6uFbtKfK"
      },
      "outputs": [],
      "source": []
    },
    {
      "cell_type": "code",
      "execution_count": null,
      "metadata": {
        "id": "WvLYBZU-tKiV"
      },
      "outputs": [],
      "source": []
    },
    {
      "cell_type": "code",
      "execution_count": null,
      "metadata": {
        "id": "1fdkoyv-tKl4"
      },
      "outputs": [],
      "source": []
    },
    {
      "cell_type": "code",
      "execution_count": null,
      "metadata": {
        "id": "MAY_jq3rtKtG"
      },
      "outputs": [],
      "source": []
    },
    {
      "cell_type": "code",
      "execution_count": null,
      "metadata": {
        "id": "DSGnOuzftKwQ"
      },
      "outputs": [],
      "source": []
    },
    {
      "cell_type": "code",
      "execution_count": null,
      "metadata": {
        "id": "3IVEVg2NtKzo"
      },
      "outputs": [],
      "source": []
    },
    {
      "cell_type": "code",
      "execution_count": null,
      "metadata": {
        "id": "t9lHy8WRtK24"
      },
      "outputs": [],
      "source": []
    },
    {
      "cell_type": "code",
      "execution_count": null,
      "metadata": {
        "id": "m1y_6Q4etK6d"
      },
      "outputs": [],
      "source": []
    },
    {
      "cell_type": "markdown",
      "metadata": {
        "id": "atWGZpU-tL_U"
      },
      "source": [
        "# Ignore afterwards\n"
      ]
    },
    {
      "cell_type": "markdown",
      "metadata": {
        "id": "RykNYG8g9pov"
      },
      "source": [
        "Extracting header"
      ]
    },
    {
      "cell_type": "code",
      "execution_count": null,
      "metadata": {
        "colab": {
          "base_uri": "https://localhost:8080/",
          "height": 366
        },
        "id": "Qq29UajF8CZL",
        "outputId": "67979dba-bef1-49c4-e153-b8da5ea8038b"
      },
      "outputs": [
        {
          "ename": "AttributeError",
          "evalue": "ignored",
          "output_type": "error",
          "traceback": [
            "\u001b[0;31m---------------------------------------------------------------------------\u001b[0m",
            "\u001b[0;31mAttributeError\u001b[0m                            Traceback (most recent call last)",
            "\u001b[0;32m<ipython-input-297-20f50f91a06f>\u001b[0m in \u001b[0;36m<cell line: 9>\u001b[0;34m()\u001b[0m\n\u001b[1;32m      9\u001b[0m \u001b[0;32mfor\u001b[0m \u001b[0mparagraph\u001b[0m \u001b[0;32min\u001b[0m \u001b[0mdocument\u001b[0m\u001b[0;34m.\u001b[0m\u001b[0mparagraphs\u001b[0m\u001b[0;34m:\u001b[0m\u001b[0;34m\u001b[0m\u001b[0;34m\u001b[0m\u001b[0m\n\u001b[1;32m     10\u001b[0m     \u001b[0;32mfor\u001b[0m \u001b[0mrun\u001b[0m \u001b[0;32min\u001b[0m \u001b[0mparagraph\u001b[0m\u001b[0;34m.\u001b[0m\u001b[0mruns\u001b[0m\u001b[0;34m:\u001b[0m\u001b[0;34m\u001b[0m\u001b[0;34m\u001b[0m\u001b[0m\n\u001b[0;32m---> 11\u001b[0;31m         \u001b[0;32mif\u001b[0m \u001b[0mhas_desired_font_size\u001b[0m\u001b[0;34m(\u001b[0m\u001b[0mrun\u001b[0m\u001b[0;34m,\u001b[0m \u001b[0;36m16\u001b[0m\u001b[0;34m)\u001b[0m \u001b[0;32mand\u001b[0m \u001b[0mrun\u001b[0m\u001b[0;34m.\u001b[0m\u001b[0mtext\u001b[0m\u001b[0;34m.\u001b[0m\u001b[0mstrip\u001b[0m\u001b[0;34m(\u001b[0m\u001b[0;34m)\u001b[0m\u001b[0;34m:\u001b[0m\u001b[0;34m\u001b[0m\u001b[0;34m\u001b[0m\u001b[0m\n\u001b[0m\u001b[1;32m     12\u001b[0m             \u001b[0mfound_14_point_text\u001b[0m \u001b[0;34m=\u001b[0m \u001b[0;32mTrue\u001b[0m\u001b[0;34m\u001b[0m\u001b[0;34m\u001b[0m\u001b[0m\n\u001b[1;32m     13\u001b[0m             \u001b[0;32mbreak\u001b[0m  \u001b[0;31m# Exit the inner loop when 14-point text is found\u001b[0m\u001b[0;34m\u001b[0m\u001b[0;34m\u001b[0m\u001b[0m\n",
            "\u001b[0;32m<ipython-input-297-20f50f91a06f>\u001b[0m in \u001b[0;36mhas_desired_font_size\u001b[0;34m(run, size)\u001b[0m\n\u001b[1;32m      1\u001b[0m \u001b[0;32mdef\u001b[0m \u001b[0mhas_desired_font_size\u001b[0m\u001b[0;34m(\u001b[0m\u001b[0mrun\u001b[0m\u001b[0;34m,\u001b[0m \u001b[0msize\u001b[0m\u001b[0;34m)\u001b[0m\u001b[0;34m:\u001b[0m\u001b[0;34m\u001b[0m\u001b[0;34m\u001b[0m\u001b[0m\n\u001b[0;32m----> 2\u001b[0;31m     \u001b[0;32mif\u001b[0m \u001b[0mrun\u001b[0m\u001b[0;34m.\u001b[0m\u001b[0mtext\u001b[0m\u001b[0;34m.\u001b[0m\u001b[0mfont\u001b[0m\u001b[0;34m.\u001b[0m\u001b[0msize\u001b[0m \u001b[0;32mis\u001b[0m \u001b[0;32mnot\u001b[0m \u001b[0;32mNone\u001b[0m \u001b[0;32mand\u001b[0m \u001b[0mrun\u001b[0m\u001b[0;34m.\u001b[0m\u001b[0mfont\u001b[0m\u001b[0;34m.\u001b[0m\u001b[0msize\u001b[0m\u001b[0;34m.\u001b[0m\u001b[0mpt\u001b[0m \u001b[0;34m==\u001b[0m \u001b[0msize\u001b[0m\u001b[0;34m:\u001b[0m\u001b[0;34m\u001b[0m\u001b[0;34m\u001b[0m\u001b[0m\n\u001b[0m\u001b[1;32m      3\u001b[0m         \u001b[0;32mreturn\u001b[0m \u001b[0;32mTrue\u001b[0m\u001b[0;34m\u001b[0m\u001b[0;34m\u001b[0m\u001b[0m\n\u001b[1;32m      4\u001b[0m     \u001b[0;32mreturn\u001b[0m \u001b[0;32mFalse\u001b[0m\u001b[0;34m\u001b[0m\u001b[0;34m\u001b[0m\u001b[0m\n\u001b[1;32m      5\u001b[0m \u001b[0;34m\u001b[0m\u001b[0m\n",
            "\u001b[0;31mAttributeError\u001b[0m: 'str' object has no attribute 'font'"
          ]
        }
      ],
      "source": [
        "def has_desired_font_size(run, size):\n",
        "    if run.text.font.size is not None and run.font.size.pt == size:\n",
        "        return True\n",
        "    return False\n",
        "\n",
        "# Initialize variables\n",
        "table_index = 0\n",
        "found_14_point_text = False\n",
        "for paragraph in document.paragraphs:\n",
        "    for run in paragraph.runs:\n",
        "        if has_desired_font_size(run, 16) and run.text.strip():\n",
        "            found_14_point_text = True\n",
        "            break  # Exit the inner loop when 14-point text is found\n",
        "    if found_14_point_text:\n",
        "        break  # Exit the outer loop when 14-point text is found\n",
        "\n",
        "# If 14-point text is found, continue to look for tables\n",
        "if found_14_point_text:\n",
        "    for paragraph in doc.paragraphs:\n",
        "        if paragraph.style.name == 'Table Grid':\n",
        "            table_index += 1\n",
        "            print(f\"Table Index {table_index}:\")\n",
        "            for row in paragraph.tables[0].rows:\n",
        "                for cell in row.cells:\n",
        "                    print(cell.text)"
      ]
    },
    {
      "cell_type": "code",
      "execution_count": null,
      "metadata": {
        "id": "wIIWuVs4V98x"
      },
      "outputs": [],
      "source": []
    },
    {
      "cell_type": "code",
      "execution_count": null,
      "metadata": {
        "id": "YJwseAlzV-AG"
      },
      "outputs": [],
      "source": []
    },
    {
      "cell_type": "markdown",
      "metadata": {
        "id": "SNwCp2Yegfrw"
      },
      "source": [
        "# Extract Information from Paragraph\n"
      ]
    },
    {
      "cell_type": "code",
      "execution_count": null,
      "metadata": {
        "colab": {
          "base_uri": "https://localhost:8080/"
        },
        "id": "_5dYnb35ZYQ_",
        "outputId": "90e26602-3182-4baf-bf6b-02c8f2a0b187"
      },
      "outputs": [
        {
          "name": "stdout",
          "output_type": "stream",
          "text": [
            "The role that vitamin D 1,25-dihydroxyvitamin D and 19-nor-dihydroxyvitamin D (and VD1-6) plays as a medication by oral delivery during chemotherapy has not been specifically investigated and compared between male and female mice.\n",
            "7-week-old male and female mice will be obtained from a CAF approved supplier and transported as per standard shipping conditions. When mice arrive at the CAF, they will be housed under standard IVC housing conditions with 5 mice per cage with standard feed and water and allowed to acclimatise for seven days.\n",
            "7 week old male and female C57black 6 mice will be acclimatised in the CAF facility\n",
            "We have knowledge of all compounds delivered mice. The oral delivery of vitamin D compounds has been previously extensively studied, but not in the context of chemotherapy. While we do not anticipate any adverse effects, we will start with a limited numbers of male and female mice. The first round of experiments will assess the 5 daily doses of the single doses of 1,25-dihydroxyvitamin D or 19-nor-dihydroxyvitamin D2 and 6-hour exposure to 5-FU. A key measure is serum calcium levels which can be assessed the following day after experimentation. We will use this measure to determine whether serum calcium levels are within a normal physiological range. Assuming the first rounds of experimentation are successful, we will fill out the remaining experimental groups.\n"
          ]
        }
      ],
      "source": [
        "important_information = []\n",
        "\n",
        "for paragraph in document.paragraphs:\n",
        "    text = paragraph.text\n",
        "    # Add your logic here to identify important information\n",
        "    if \"female\" in text:\n",
        "        important_information.append(text)\n",
        "# Print the important information\n",
        "for info in important_information:\n",
        "    print(info)\n",
        "\n"
      ]
    },
    {
      "cell_type": "code",
      "execution_count": null,
      "metadata": {
        "colab": {
          "base_uri": "https://localhost:8080/"
        },
        "id": "ZT1sjfwXC3WY",
        "outputId": "0c8c0116-47bf-4522-f71a-8d08bf9f07ed"
      },
      "outputs": [
        {
          "name": "stdout",
          "output_type": "stream",
          "text": [
            "Declaration of interest\n",
            "Declaration of interest\n",
            "Declaration of interest\n",
            "Declaration of interest\n",
            "Declaration of interest\n",
            "Is there any actual or potential interest, including financial interest or other relationship or affiliation by any research/team member involved in the project that may affect judgements and decisions regarding the wellbeing of the animals involved? See Code  [xxi]\n",
            "Yes\t☒ No\n",
            "If yes, outline the potential and any steps to be taken to ensure the ethical integrity of the project.\n",
            "No\n",
            "If yes, outline the potential and any steps to be taken to ensure the ethical integrity of the project.\n"
          ]
        }
      ],
      "source": [
        "# Initialize a flag to indicate if a checkbox is found\n",
        "found_checked_box = False\n",
        "\n",
        "# Iterate through the tables in the document\n",
        "if table:\n",
        "    # Iterate through the rows in the table\n",
        "    for row in table.rows: #1\n",
        "        # Iterate through the cells in the row\n",
        "        for cell in row.cells:#2\n",
        "            # Iterate through the paragraphs in the cell\n",
        "            for paragraph in cell.paragraphs:\n",
        "                # Check if \"☒\" is in the paragraph text\n",
        "                if \"☒\" in paragraph.text:\n",
        "                    # Set the flag to indicate a checkbox is found\n",
        "                    found_checked_box = True\n",
        "                    # Print the text after \"☒\" and before the next line\n",
        "                    text_parts = paragraph.text.split(\"☒\")\n",
        "                    if len(text_parts) > 1:\n",
        "                        print(text_parts[1].strip())\n",
        "                # If a checkbox is found and the flag is set, print the entire paragraph text\n",
        "                elif found_checked_box:\n",
        "                    print(paragraph.text.strip())\n",
        "                    found_checked_box = False  # Reset the flag\n",
        "                else:\n",
        "                  print(cell.text.strip())"
      ]
    },
    {
      "cell_type": "code",
      "execution_count": null,
      "metadata": {
        "id": "XzZ8-nUiFtKL"
      },
      "outputs": [],
      "source": [
        "for paragraph in doc.paragraphs:\n",
        "    start_index = paragraph.text.find(\"☒\")\n",
        "    end_index = paragraph.text.find(\"☐\")\n",
        "\n",
        "    # Check if both \"☒\" and \"☐\" were found in the paragraph\n",
        "    if start_index != -1 and end_index != -1:\n",
        "        text_between_markers = paragraph.text[start_index + 1:end_index].strip()\n",
        "        extracted_text.append(text_between_markers)"
      ]
    },
    {
      "cell_type": "code",
      "execution_count": null,
      "metadata": {
        "id": "vX0BZ0SVHRNM"
      },
      "outputs": [],
      "source": [
        "import re"
      ]
    },
    {
      "cell_type": "code",
      "execution_count": null,
      "metadata": {
        "colab": {
          "base_uri": "https://localhost:8080/"
        },
        "id": "suWbVyEsBREp",
        "outputId": "67ba0c22-6f91-47de-97ff-4cfb7b6708e5"
      },
      "outputs": [
        {
          "name": "stdout",
          "output_type": "stream",
          "text": [
            "\n",
            "\n",
            "Is this project grant or\n",
            "industry funded?\tIs this project grant or\n",
            "industry funded?\tYes\n",
            "\n",
            "\n",
            "If yes, what is the\n",
            "funding body?\tIf yes, what is the\n",
            "funding body?\tNHMRC\t"
          ]
        }
      ],
      "source": [
        "first=second=\"A\"\n",
        "# for paragraph in document.paragraphs:\n",
        "#   print(paragraph.text)\n",
        "for table in document.tables:\n",
        "  for row in table.rows: #1\n",
        "    print(\"\\n\")\n",
        "    for cell in row.cells: #2\n",
        "      first = second\n",
        "      second = cell.text\n",
        "      if first == second:\n",
        "        continue\n",
        "      for paragraph in cell.paragraphs:\n",
        "          if \"☒\" in paragraph.text:\n",
        "          # Set the flag to indicate a checkbox is found\n",
        "            found_checked_box = True\n",
        "            # Print the text after \"☒\" and before the next line\n",
        "            text_parts = paragraph.text.split(\"☒\")\n",
        "            print(text_parts[1].strip())\n",
        "            if \"☐\" in paragraph.text:\n",
        "              text_parts = paragraph.text.split(\"☐\")\n",
        "              print(text_parts[0].strip())\n",
        "            # text_parts= paragraph.text.split(\"☐\")\n",
        "            # elif len(text_parts) > 1:\n",
        "            #   print(\"\\033[1m\",text_parts[0].strip(),\"\\033[0m\")\n",
        "            # If a checkbox is found and the flag is set, print the entire paragraph text\n",
        "          elif found_checked_box:\n",
        "            # print(paragraph.text.strip())\n",
        "            found_checked_box = False  # Reset the flag\n",
        "          else:\n",
        "            print(cell.text.strip(),end=\"\\t\")"
      ]
    },
    {
      "cell_type": "code",
      "execution_count": null,
      "metadata": {
        "id": "Ii4b99ZwBRH5"
      },
      "outputs": [],
      "source": []
    },
    {
      "cell_type": "code",
      "execution_count": null,
      "metadata": {
        "id": "sORmHxuqeqGo"
      },
      "outputs": [],
      "source": [
        "#check header of the paragraph or content"
      ]
    },
    {
      "cell_type": "markdown",
      "metadata": {
        "id": "9S85bY9Vgl0R"
      },
      "source": [
        "# Extract Information from Tables\n"
      ]
    },
    {
      "cell_type": "code",
      "execution_count": null,
      "metadata": {
        "colab": {
          "base_uri": "https://localhost:8080/",
          "height": 254
        },
        "id": "FxBigj-HfUEp",
        "outputId": "87836be6-f7a4-4c71-92a7-0cc7a0c42953"
      },
      "outputs": [
        {
          "ename": "NameError",
          "evalue": "ignored",
          "output_type": "error",
          "traceback": [
            "\u001b[0;31m---------------------------------------------------------------------------\u001b[0m",
            "\u001b[0;31mNameError\u001b[0m                                 Traceback (most recent call last)",
            "\u001b[0;32m<ipython-input-15-b4ca386023bf>\u001b[0m in \u001b[0;36m<cell line: 3>\u001b[0;34m()\u001b[0m\n\u001b[1;32m      1\u001b[0m \u001b[0mtable_index\u001b[0m \u001b[0;34m=\u001b[0m \u001b[0;36m1\u001b[0m \u001b[0;31m# Replace with the index of the table you want to extract\u001b[0m\u001b[0;34m\u001b[0m\u001b[0;34m\u001b[0m\u001b[0m\n\u001b[1;32m      2\u001b[0m \u001b[0;34m\u001b[0m\u001b[0m\n\u001b[0;32m----> 3\u001b[0;31m \u001b[0;32mif\u001b[0m \u001b[0mtable_index\u001b[0m \u001b[0;34m<\u001b[0m \u001b[0mlen\u001b[0m\u001b[0;34m(\u001b[0m\u001b[0mdocument\u001b[0m\u001b[0;34m.\u001b[0m\u001b[0mtables\u001b[0m\u001b[0;34m)\u001b[0m\u001b[0;34m:\u001b[0m\u001b[0;34m\u001b[0m\u001b[0;34m\u001b[0m\u001b[0m\n\u001b[0m\u001b[1;32m      4\u001b[0m     \u001b[0mtable\u001b[0m \u001b[0;34m=\u001b[0m \u001b[0mdocument\u001b[0m\u001b[0;34m.\u001b[0m\u001b[0mtables\u001b[0m\u001b[0;34m[\u001b[0m\u001b[0mtable_index\u001b[0m\u001b[0;34m]\u001b[0m\u001b[0;34m\u001b[0m\u001b[0;34m\u001b[0m\u001b[0m\n\u001b[1;32m      5\u001b[0m     \u001b[0;32mfor\u001b[0m \u001b[0mrow\u001b[0m \u001b[0;32min\u001b[0m \u001b[0mtable\u001b[0m\u001b[0;34m.\u001b[0m\u001b[0mrows\u001b[0m\u001b[0;34m:\u001b[0m\u001b[0;34m\u001b[0m\u001b[0;34m\u001b[0m\u001b[0m\n",
            "\u001b[0;31mNameError\u001b[0m: name 'document' is not defined"
          ]
        }
      ],
      "source": [
        "table_index = 1 # Replace with the index of the table you want to extract\n",
        "\n",
        "if table_index < len(document.tables):\n",
        "    table = document.tables[table_index]\n",
        "    for row in table.rows:\n",
        "        # print(\"\\n\")\n",
        "        for cell in row.cells:\n",
        "\n",
        "            # Access the text within each cell\n",
        "            cell_text = cell.text.strip()  #text  ticked boxes... types\n",
        "            print(cell_text)\n",
        "else:\n",
        "    print(\"Table index is out of range.\")\n"
      ]
    },
    {
      "cell_type": "code",
      "execution_count": null,
      "metadata": {
        "id": "SV75Hnw_fUIH"
      },
      "outputs": [],
      "source": [
        "captions_list=['Office Use Only','Title of Project','Approved date for animal use to begin','Declaration of interest','Other Applicant\\'s Name']"
      ]
    },
    {
      "cell_type": "code",
      "execution_count": null,
      "metadata": {
        "colab": {
          "base_uri": "https://localhost:8080/"
        },
        "id": "PMIV52ejg712",
        "outputId": "4bf950f1-b66b-4d60-decf-1c2ea94b711c"
      },
      "outputs": [
        {
          "name": "stdout",
          "output_type": "stream",
          "text": [
            "found\n"
          ]
        }
      ],
      "source": [
        "target_caption = captions_list[3]  # Replace with your table's caption\n",
        "for table in document.tables:\n",
        "    if table.rows[0].cells[0].text.strip() == target_caption:\n",
        "        # Found the table with the specified caption\n",
        "        print(\"found\")\n",
        "        break\n",
        "else:\n",
        "    print(\"Not\")\n",
        "    # Table not found\n",
        "    table = None\n"
      ]
    },
    {
      "cell_type": "code",
      "execution_count": null,
      "metadata": {
        "id": "JSmRqwcwv_o7"
      },
      "outputs": [],
      "source": [
        "from docx import Document\n",
        "from docx.enum.text import WD_PARAGRAPH_ALIGNMENT\n",
        "from docx.shared import Pt"
      ]
    },
    {
      "cell_type": "code",
      "execution_count": null,
      "metadata": {
        "colab": {
          "base_uri": "https://localhost:8080/",
          "height": 254
        },
        "id": "H_7SK5pmv3tX",
        "outputId": "04408e21-1dab-4587-9b5e-c778160b3681"
      },
      "outputs": [
        {
          "ename": "NameError",
          "evalue": "ignored",
          "output_type": "error",
          "traceback": [
            "\u001b[0;31m---------------------------------------------------------------------------\u001b[0m",
            "\u001b[0;31mNameError\u001b[0m                                 Traceback (most recent call last)",
            "\u001b[0;32m<ipython-input-14-fad6ce481d0c>\u001b[0m in \u001b[0;36m<cell line: 1>\u001b[0;34m()\u001b[0m\n\u001b[1;32m      1\u001b[0m \u001b[0;32mfor\u001b[0m \u001b[0mparagraph\u001b[0m \u001b[0;32min\u001b[0m \u001b[0mdoc\u001b[0m\u001b[0;34m.\u001b[0m\u001b[0mparagraphs\u001b[0m\u001b[0;34m:\u001b[0m\u001b[0;34m\u001b[0m\u001b[0;34m\u001b[0m\u001b[0m\n\u001b[0;32m----> 2\u001b[0;31m   \u001b[0mtext\u001b[0m\u001b[0;34m.\u001b[0m\u001b[0mappend\u001b[0m\u001b[0;34m(\u001b[0m\u001b[0mparagraph\u001b[0m\u001b[0;34m.\u001b[0m\u001b[0mtext\u001b[0m\u001b[0;34m)\u001b[0m\u001b[0;34m\u001b[0m\u001b[0;34m\u001b[0m\u001b[0m\n\u001b[0m\u001b[1;32m      3\u001b[0m   \u001b[0;32mfor\u001b[0m \u001b[0mtable\u001b[0m \u001b[0;32min\u001b[0m \u001b[0mdoc\u001b[0m\u001b[0;34m.\u001b[0m\u001b[0mtables\u001b[0m\u001b[0;34m:\u001b[0m\u001b[0;34m\u001b[0m\u001b[0;34m\u001b[0m\u001b[0m\n\u001b[1;32m      4\u001b[0m     \u001b[0;32mfor\u001b[0m \u001b[0mrow\u001b[0m \u001b[0;32min\u001b[0m \u001b[0mtable\u001b[0m\u001b[0;34m.\u001b[0m\u001b[0mrows\u001b[0m\u001b[0;34m:\u001b[0m\u001b[0;34m\u001b[0m\u001b[0;34m\u001b[0m\u001b[0m\n\u001b[1;32m      5\u001b[0m       \u001b[0;32mfor\u001b[0m \u001b[0mcell\u001b[0m \u001b[0;32min\u001b[0m \u001b[0mrow\u001b[0m\u001b[0;34m.\u001b[0m\u001b[0mcells\u001b[0m\u001b[0;34m:\u001b[0m\u001b[0;34m\u001b[0m\u001b[0;34m\u001b[0m\u001b[0m\n",
            "\u001b[0;31mNameError\u001b[0m: name 'text' is not defined"
          ]
        }
      ],
      "source": [
        "for paragraph in doc.paragraphs:\n",
        "  text.append(paragraph.text)\n",
        "  for table in doc.tables:\n",
        "    for row in table.rows:\n",
        "      for cell in row.cells:\n",
        "        first=cell.text\n",
        "        if first == second:\n",
        "          continue\n",
        "          text.append(cell.text)\n",
        "          second=cell.text"
      ]
    },
    {
      "cell_type": "code",
      "execution_count": null,
      "metadata": {
        "colab": {
          "base_uri": "https://localhost:8080/"
        },
        "id": "GaJqc2gRpYqt",
        "outputId": "8a7fec55-913b-4e59-a71e-c99f7d0b15d7"
      },
      "outputs": [
        {
          "name": "stdout",
          "output_type": "stream",
          "text": [
            "Approved date for animal use to begin\n",
            "July 2023\n",
            "July 2023\n",
            "July 2023\n",
            "Approved date for animal use to end\n",
            "July 2026\n",
            "July 2026\n",
            "July 2026\n",
            "Project duration\n",
            "3 years\n",
            "3 years\n",
            "3 years\n",
            "Does this application relate to a previously approved Protocol?\n",
            "Yes\t☒ No\n",
            "☑\n",
            "Yes\t☒ No\n",
            "☑\n",
            "Yes\t☒ No\n",
            "☑\n",
            "If so, give previous approval number(s)\n",
            "\n",
            "\n",
            "\n",
            "Have reports on these projects been lodged?\n",
            "Yes\t☒ No\n",
            "☑\n",
            "Yes\t☒ No\n",
            "☑\n",
            "Yes\t☒ No\n",
            "☑\n",
            "Does this project involve any of the following:\n",
            "Undergraduate Student\t☐ Honours Student\n",
            "☒ Masters Student\t☐ PhD Student\n",
            "☑\n",
            "Undergraduate Student\t☐ Honours Student\n",
            "☒ Masters Student\t☐ PhD Student\n",
            "☑\n",
            "Undergraduate Student\t☐ Honours Student\n",
            "☒ Masters Student\t☐ PhD Student\n",
            "☑\n",
            "Funding\n",
            "Is this project grant or\n",
            "industry funded?\n",
            "☒ Yes\n",
            "☑\n",
            "No\n",
            "Funding\n",
            "If yes, what is the\n",
            "funding body?\n",
            "NHMRC\n",
            "NHMRC\n",
            "Funding\n",
            "What is the funding\n",
            "approval number?\n",
            "GNT1165107\n",
            "GNT1165107\n",
            "Funding\n",
            "If no, what is the Cost\n",
            "Centre Code for this project?\n",
            "\n",
            "\n"
          ]
        }
      ],
      "source": [
        "if table:\n",
        "    for row in table.rows:\n",
        "        for cell in row.cells:\n",
        "            # Access the text within each cell\n",
        "            cell_text = cell.text.strip()\n",
        "            if \"☒\" in cell_text:\n",
        "               found_checked_box = True\n",
        "               print(cell_text)\n",
        "            if \"☒\" in cell_text or \"☑\" in cell_text or \"■\" in cell_text:\n",
        "              checkbox_value = True\n",
        "              print(\"☑\")\n",
        "            else:\n",
        "\n",
        "              print(cell_text)\n"
      ]
    },
    {
      "cell_type": "code",
      "execution_count": null,
      "metadata": {
        "colab": {
          "base_uri": "https://localhost:8080/"
        },
        "id": "s-rBMfNOxpiZ",
        "outputId": "6141060a-28aa-497e-a392-db2f4475a2ca"
      },
      "outputs": [
        {
          "name": "stdout",
          "output_type": "stream",
          "text": [
            "Approved date for animal use to begin\n",
            "July 2023\n",
            "July 2023\n",
            "July 2023\n",
            "Approved date for animal use to end\n",
            "July 2026\n",
            "July 2026\n",
            "July 2026\n",
            "Project duration\n",
            "3 years\n",
            "3 years\n",
            "3 years\n",
            "Does this application relate to a previously approved Protocol?\n",
            "No\n",
            "No\n",
            "No\n",
            "If so, give previous approval number(s)\n",
            "\n",
            "\n",
            "\n",
            "Have reports on these projects been lodged?\n",
            "No\n",
            "No\n",
            "No\n",
            "Does this project involve any of the following:\n",
            "Undergraduate Student\t☐ Honours Student\n",
            "☒ Masters Student\t☐ PhD Student\n",
            "Masters Student\t☐ PhD Student\n",
            "Undergraduate Student\t☐ Honours Student\n",
            "Masters Student\t☐ PhD Student\n",
            "Undergraduate Student\t☐ Honours Student\n",
            "Masters Student\t☐ PhD Student\n",
            "\n",
            "Funding\n",
            "Funding\n",
            "Funding\n",
            "Funding\n",
            "Is this project grant or\n",
            "industry funded?\n",
            "Is this project grant or\n",
            "industry funded?\n",
            "Yes\n",
            "No\n",
            "Funding\n",
            "Funding\n",
            "Funding\n",
            "Funding\n",
            "Funding\n",
            "If yes, what is the\n",
            "funding body?\n",
            "If yes, what is the\n",
            "funding body?\n",
            "NHMRC\n",
            "NHMRC\n",
            "Funding\n",
            "Funding\n",
            "Funding\n",
            "Funding\n",
            "Funding\n",
            "What is the funding\n",
            "approval number?\n",
            "What is the funding\n",
            "approval number?\n",
            "GNT1165107\n",
            "GNT1165107\n",
            "Funding\n",
            "Funding\n",
            "Funding\n",
            "Funding\n",
            "Funding\n",
            "If no, what is the Cost\n",
            "Centre Code for this project?\n",
            "If no, what is the Cost\n",
            "Centre Code for this project?\n",
            "\n",
            "\n"
          ]
        }
      ],
      "source": [
        "# Initialize a flag to indicate if a checkbox is found\n",
        "found_checked_box = False\n",
        "\n",
        "# Iterate through the tables in the document\n",
        "if table:\n",
        "    # Iterate through the rows in the table\n",
        "    for row in table.rows:\n",
        "        # Iterate through the cells in the row\n",
        "        for cell in row.cells:\n",
        "            # Iterate through the paragraphs in the cell\n",
        "            for paragraph in cell.paragraphs:\n",
        "                # Check if \"☒\" is in the paragraph text\n",
        "                if \"☒\" in paragraph.text:\n",
        "                    # Set the flag to indicate a checkbox is found\n",
        "                    found_checked_box = True\n",
        "                    # Print the text after \"☒\" and before the next line\n",
        "                    text_parts = paragraph.text.split(\"☒\")\n",
        "                    if len(text_parts) > 1:\n",
        "                        print(text_parts[1].strip())\n",
        "                # If a checkbox is found and the flag is set, print the entire paragraph text\n",
        "                elif found_checked_box:\n",
        "                    print(paragraph.text.strip())\n",
        "                    found_checked_box = False  # Reset the flag\n",
        "                else:\n",
        "                  print(cell.text.strip())"
      ]
    },
    {
      "cell_type": "code",
      "execution_count": null,
      "metadata": {
        "colab": {
          "base_uri": "https://localhost:8080/"
        },
        "id": "Lg6ekXBeYXV0",
        "outputId": "22ef7eb2-c2a7-4acb-cd52-e268d7c8e7c8"
      },
      "outputs": [
        {
          "name": "stdout",
          "output_type": "stream",
          "text": [
            "Approved date for animal\n",
            "\n",
            "use\n",
            "\n",
            "to\n",
            "\n",
            "begin\n",
            "July\n",
            "\n",
            "2023\n",
            "July\n",
            "\n",
            "2023\n",
            "July\n",
            "\n",
            "2023\n",
            "Approved\n",
            "\n",
            "date\n",
            "\n",
            "for animal\n",
            "\n",
            "use\n",
            "\n",
            "to\n",
            "end\n",
            "July\n",
            "\n",
            "2026\n",
            "July\n",
            "\n",
            "2026\n",
            "July\n",
            "\n",
            "2026\n",
            "Project\n",
            "\n",
            "duration\n",
            "3\n",
            "\n",
            "years\n",
            "3\n",
            "\n",
            "years\n",
            "3\n",
            "\n",
            "years\n",
            "Does this application relate\n",
            "\n",
            "to\n",
            "\n",
            "a\n",
            "\n",
            "previously approved Protocol?\n",
            "Yes\n",
            "\n",
            "☒\n",
            "\n",
            "No\n",
            "Yes\n",
            "\n",
            "☒\n",
            "\n",
            "No\n",
            "Yes\n",
            "\n",
            "☒\n",
            "\n",
            "No\n",
            "If so, give previous approval\n",
            "\n",
            "number(s)\n",
            "Have\n",
            "\n",
            "reports\n",
            "\n",
            "on\n",
            "\n",
            "these projects\n",
            "\n",
            "been\n",
            "\n",
            "lodged?\n",
            "Yes\n",
            "\n",
            "☒\n",
            "\n",
            "No\n",
            "Yes\n",
            "\n",
            "☒\n",
            "\n",
            "No\n",
            "Yes\n",
            "\n",
            "☒\n",
            "\n",
            "No\n",
            "Does this project involve\n",
            "\n",
            "any\n",
            "\n",
            "of\n",
            "\n",
            "the\n",
            "following:\n",
            "Undergraduate\n",
            "\n",
            "Student\n",
            "\n",
            "☐\n",
            "Text between ☒ and ☐: NoYes☒NoYes☒NoIf so, give previous approvalnumber(s)Havereportsonthese projectsbeenlodged?Yes☒NoYes☒NoYes☒NoDoes this project involveanyofthefollowing:UndergraduateStudent\n",
            "\n",
            "Honours\n",
            "\n",
            "Student\n",
            "☒\n",
            "\n",
            "Masters\n",
            "\n",
            "Student\n",
            "\n",
            "☐\n",
            "Text between ☒ and ☐: MastersStudent\n",
            "\n",
            "PhD\n",
            "\n",
            "Student\n",
            "Undergraduate\n",
            "\n",
            "Student\n",
            "\n",
            "☐\n",
            "\n",
            "Honours\n",
            "\n",
            "Student\n",
            "☒\n",
            "\n",
            "Masters\n",
            "\n",
            "Student\n",
            "\n",
            "☐\n",
            "Text between ☒ and ☐: MastersStudent\n",
            "\n",
            "PhD\n",
            "\n",
            "Student\n",
            "Undergraduate\n",
            "\n",
            "Student\n",
            "\n",
            "☐\n",
            "\n",
            "Honours\n",
            "\n",
            "Student\n",
            "☒\n",
            "\n",
            "Masters\n",
            "\n",
            "Student\n",
            "\n",
            "☐\n",
            "Text between ☒ and ☐: MastersStudent\n",
            "\n",
            "PhD\n",
            "\n",
            "Student\n",
            "Funding\n",
            "Is\n",
            "\n",
            "this\n",
            "\n",
            "project\n",
            "\n",
            "grant\n",
            "\n",
            "or\n",
            "industry\n",
            "\n",
            "funded?\n",
            "☒\n",
            "\n",
            "Yes\n",
            "No\n",
            "Funding\n",
            "If\n",
            "\n",
            "yes,\n",
            "\n",
            "what\n",
            "\n",
            "is\n",
            "the\n",
            "funding\n",
            "\n",
            "body?\n",
            "NHMRC\n",
            "NHMRC\n",
            "Funding\n",
            "What is\n",
            "\n",
            "the\n",
            "\n",
            "funding\n",
            "approval\n",
            "number?\n",
            "GNT1165107\n",
            "GNT1165107\n",
            "Funding\n",
            "If\n",
            "\n",
            "no,\n",
            "\n",
            "what is\n",
            "\n",
            "the\n",
            "Cost\n",
            "Centre\n",
            "\n",
            "Code\n",
            "\n",
            "for\n",
            "\n",
            "this\n",
            "project?\n"
          ]
        }
      ],
      "source": [
        "found_checked_box = False\n",
        "text_between_checked_boxes = \"\"\n",
        "if table:\n",
        "    for row_index, row in enumerate(table.rows):\n",
        "            for cell_index, cell in enumerate(row.cells):\n",
        "                for paragraph in cell.paragraphs:\n",
        "                    for run in paragraph.runs:\n",
        "                        text = run.text.strip()\n",
        "                        print(text)\n",
        "                        if found_checked_box:\n",
        "                            if \"☐\" in text:\n",
        "                                print(f\"Text between ☒ and ☐: {text_between_checked_boxes}\")\n",
        "                                text_between_checked_boxes = \"\"\n",
        "                                found_checked_box = False\n",
        "                            else:\n",
        "                                text_between_checked_boxes += text\n",
        "                        if \"☒\" in text:\n",
        "                            found_checked_box = True"
      ]
    },
    {
      "cell_type": "code",
      "execution_count": null,
      "metadata": {
        "colab": {
          "base_uri": "https://localhost:8080/",
          "height": 35
        },
        "id": "YAuTuVLeWSlf",
        "outputId": "b0377cbe-3222-4352-d995-434a242c4e02"
      },
      "outputs": [
        {
          "data": {
            "application/vnd.google.colaboratory.intrinsic+json": {
              "type": "string"
            },
            "text/plain": [
              "'project?'"
            ]
          },
          "execution_count": 31,
          "metadata": {},
          "output_type": "execute_result"
        }
      ],
      "source": [
        "text = run.text.strip()\n",
        "text"
      ]
    },
    {
      "cell_type": "code",
      "execution_count": null,
      "metadata": {
        "id": "Kw-6dXLQcylN"
      },
      "outputs": [],
      "source": []
    },
    {
      "cell_type": "code",
      "execution_count": null,
      "metadata": {
        "id": "gOhRDd5Gcypr"
      },
      "outputs": [],
      "source": []
    },
    {
      "cell_type": "code",
      "execution_count": null,
      "metadata": {
        "id": "eZO1elZNcytI"
      },
      "outputs": [],
      "source": []
    },
    {
      "cell_type": "code",
      "execution_count": null,
      "metadata": {
        "id": "89SZB3RWWSob"
      },
      "outputs": [],
      "source": []
    },
    {
      "cell_type": "code",
      "execution_count": null,
      "metadata": {
        "colab": {
          "base_uri": "https://localhost:8080/",
          "height": 141
        },
        "id": "dTpaD-4-WSrz",
        "outputId": "06230f60-9a0a-4b12-861c-6c413b2311a6"
      },
      "outputs": [
        {
          "ename": "SyntaxError",
          "evalue": "ignored",
          "output_type": "error",
          "traceback": [
            "\u001b[0;36m  File \u001b[0;32m\"<ipython-input-22-3dc60d30fb6c>\"\u001b[0;36m, line \u001b[0;32m1\u001b[0m\n\u001b[0;31m    break point\u001b[0m\n\u001b[0m          ^\u001b[0m\n\u001b[0;31mSyntaxError\u001b[0m\u001b[0;31m:\u001b[0m invalid syntax\n"
          ]
        }
      ],
      "source": [
        "break point\n",
        "cell object\n",
        "merged --new version"
      ]
    },
    {
      "cell_type": "code",
      "execution_count": null,
      "metadata": {
        "id": "yx-19g7pn61d"
      },
      "outputs": [],
      "source": [
        "from docx import Document"
      ]
    },
    {
      "cell_type": "markdown",
      "metadata": {
        "id": "_4CWswUNPWKD"
      },
      "source": []
    },
    {
      "cell_type": "code",
      "execution_count": null,
      "metadata": {
        "id": "GyeRzr7tnxcB"
      },
      "outputs": [],
      "source": [
        "def is_merged(cell):\n",
        "    grid_span = cell._tc.gridSpan\n",
        "    return grid_span is not None and int(grid_span.get(\"val\", 1)) > 1"
      ]
    },
    {
      "cell_type": "code",
      "execution_count": null,
      "metadata": {
        "id": "oOix5NMYPXNP"
      },
      "outputs": [],
      "source": [
        "def is_merged(cell):\n",
        "    tc = cell._element\n",
        "    grid_span_element = tc.find(\".//w:vMerge\", namespaces=tc.nsmap)\n",
        "    return grid_span_element is not None"
      ]
    },
    {
      "cell_type": "code",
      "execution_count": null,
      "metadata": {
        "colab": {
          "base_uri": "https://localhost:8080/"
        },
        "id": "vrzpo8xsnbp3",
        "outputId": "526e1957-bb45-449c-cd4c-ba8c848bac5c"
      },
      "outputs": [
        {
          "name": "stdout",
          "output_type": "stream",
          "text": [
            "This cell is not merged.\n",
            "This cell is not merged.\n",
            "This cell is not merged.\n",
            "This cell is not merged.\n",
            "This cell is not merged.\n",
            "This cell is not merged.\n",
            "This cell is not merged.\n",
            "This cell is not merged.\n",
            "This cell is not merged.\n",
            "This cell is not merged.\n",
            "This cell is not merged.\n",
            "This cell is not merged.\n",
            "This cell is not merged.\n",
            "This cell is not merged.\n",
            "This cell is not merged.\n",
            "This cell is not merged.\n",
            "This cell is not merged.\n",
            "This cell is not merged.\n",
            "This cell is not merged.\n",
            "This cell is not merged.\n",
            "This cell is not merged.\n",
            "This cell is not merged.\n",
            "This cell is not merged.\n",
            "This cell is not merged.\n",
            "This cell is not merged.\n",
            "This cell is not merged.\n",
            "This cell is not merged.\n",
            "This cell is not merged.\n",
            "This cell is merged.\n",
            "This cell is not merged.\n",
            "This cell is not merged.\n",
            "This cell is not merged.\n",
            "This cell is merged.\n",
            "This cell is not merged.\n",
            "This cell is not merged.\n",
            "This cell is not merged.\n",
            "This cell is merged.\n",
            "This cell is not merged.\n",
            "This cell is not merged.\n",
            "This cell is not merged.\n",
            "This cell is merged.\n",
            "This cell is not merged.\n",
            "This cell is not merged.\n",
            "This cell is not merged.\n"
          ]
        }
      ],
      "source": [
        "if table:\n",
        "    for row in table.rows:\n",
        "        for cell in row.cells:\n",
        "          if is_merged(cell):\n",
        "            print(\"This cell is merged.\")\n",
        "          else:\n",
        "            print(\"This cell is not merged.\")\n"
      ]
    },
    {
      "cell_type": "code",
      "execution_count": null,
      "metadata": {
        "id": "oWGSMxk8g77u"
      },
      "outputs": [],
      "source": [
        "def get_merged_data(cell):\n",
        "    merged_data = \"\"\n",
        "    tc = cell._element\n",
        "    grid_span_element = tc.find(\".//w:vMerge\", namespaces=tc.nsmap)\n",
        "\n",
        "    if grid_span_element is not None:\n",
        "        grid_span_val = grid_span_element.get(\"{http://schemas.openxmlformats.org/wordprocessingml/2006/main}val\")\n",
        "        if grid_span_val == \"restart\":\n",
        "            # This cell starts a merged group, so we collect data from all merged cells\n",
        "            merged_data = \" \".join([c.text.strip() for c in cell._tc.gridSpan])\n",
        "    else:\n",
        "        # This cell is not merged, so we collect its data\n",
        "        merged_data = cell.text.strip()\n",
        "\n",
        "    return merged_data"
      ]
    },
    {
      "cell_type": "code",
      "execution_count": null,
      "metadata": {
        "colab": {
          "base_uri": "https://localhost:8080/",
          "height": 384
        },
        "id": "ldcTnc4bg7-l",
        "outputId": "ba1c0333-a0ca-4440-92c0-d708d9f2d051"
      },
      "outputs": [
        {
          "ename": "AttributeError",
          "evalue": "ignored",
          "output_type": "error",
          "traceback": [
            "\u001b[0;31m---------------------------------------------------------------------------\u001b[0m",
            "\u001b[0;31mAttributeError\u001b[0m                            Traceback (most recent call last)",
            "\u001b[0;32m<ipython-input-53-2054ae99ab15>\u001b[0m in \u001b[0;36m<cell line: 1>\u001b[0;34m()\u001b[0m\n\u001b[1;32m      3\u001b[0m         \u001b[0;32mfor\u001b[0m \u001b[0mcell\u001b[0m \u001b[0;32min\u001b[0m \u001b[0mrow\u001b[0m\u001b[0;34m.\u001b[0m\u001b[0mcells\u001b[0m\u001b[0;34m:\u001b[0m\u001b[0;34m\u001b[0m\u001b[0;34m\u001b[0m\u001b[0m\n\u001b[1;32m      4\u001b[0m             \u001b[0;32mif\u001b[0m \u001b[0mis_merged\u001b[0m\u001b[0;34m(\u001b[0m\u001b[0mcell\u001b[0m\u001b[0;34m)\u001b[0m\u001b[0;34m:\u001b[0m\u001b[0;34m\u001b[0m\u001b[0;34m\u001b[0m\u001b[0m\n\u001b[0;32m----> 5\u001b[0;31m               \u001b[0mmerged_data\u001b[0m \u001b[0;34m=\u001b[0m \u001b[0mget_merged_data\u001b[0m\u001b[0;34m(\u001b[0m\u001b[0mcell\u001b[0m\u001b[0;34m)\u001b[0m\u001b[0;34m\u001b[0m\u001b[0;34m\u001b[0m\u001b[0m\n\u001b[0m\u001b[1;32m      6\u001b[0m               \u001b[0;32mif\u001b[0m \u001b[0mmerged_data\u001b[0m\u001b[0;34m:\u001b[0m\u001b[0;34m\u001b[0m\u001b[0;34m\u001b[0m\u001b[0m\n\u001b[1;32m      7\u001b[0m                 \u001b[0mprint\u001b[0m\u001b[0;34m(\u001b[0m\u001b[0mmerged_data\u001b[0m\u001b[0;34m)\u001b[0m\u001b[0;34m\u001b[0m\u001b[0;34m\u001b[0m\u001b[0m\n",
            "\u001b[0;32m<ipython-input-27-b5b3f2fba0bd>\u001b[0m in \u001b[0;36mget_merged_data\u001b[0;34m(cell)\u001b[0m\n\u001b[1;32m      8\u001b[0m         \u001b[0;32mif\u001b[0m \u001b[0mgrid_span_val\u001b[0m \u001b[0;34m==\u001b[0m \u001b[0;34m\"restart\"\u001b[0m\u001b[0;34m:\u001b[0m\u001b[0;34m\u001b[0m\u001b[0;34m\u001b[0m\u001b[0m\n\u001b[1;32m      9\u001b[0m             \u001b[0;31m# This cell starts a merged group, so we collect data from all merged cells\u001b[0m\u001b[0;34m\u001b[0m\u001b[0;34m\u001b[0m\u001b[0m\n\u001b[0;32m---> 10\u001b[0;31m             \u001b[0mmerged_data\u001b[0m \u001b[0;34m=\u001b[0m \u001b[0;34m\" \"\u001b[0m\u001b[0;34m.\u001b[0m\u001b[0mjoin\u001b[0m\u001b[0;34m(\u001b[0m\u001b[0;34m[\u001b[0m\u001b[0mc\u001b[0m\u001b[0;34m.\u001b[0m\u001b[0mtext\u001b[0m\u001b[0;34m.\u001b[0m\u001b[0mstrip\u001b[0m\u001b[0;34m(\u001b[0m\u001b[0;34m)\u001b[0m \u001b[0;32mfor\u001b[0m \u001b[0mc\u001b[0m \u001b[0;32min\u001b[0m \u001b[0mcell\u001b[0m\u001b[0;34m.\u001b[0m\u001b[0m_tc\u001b[0m\u001b[0;34m.\u001b[0m\u001b[0mgridSpan\u001b[0m\u001b[0;34m]\u001b[0m\u001b[0;34m)\u001b[0m\u001b[0;34m\u001b[0m\u001b[0;34m\u001b[0m\u001b[0m\n\u001b[0m\u001b[1;32m     11\u001b[0m     \u001b[0;32melse\u001b[0m\u001b[0;34m:\u001b[0m\u001b[0;34m\u001b[0m\u001b[0;34m\u001b[0m\u001b[0m\n\u001b[1;32m     12\u001b[0m         \u001b[0;31m# This cell is not merged, so we collect its data\u001b[0m\u001b[0;34m\u001b[0m\u001b[0;34m\u001b[0m\u001b[0m\n",
            "\u001b[0;31mAttributeError\u001b[0m: 'CT_Tc' object has no attribute 'gridSpan'"
          ]
        }
      ],
      "source": [
        "if table:\n",
        "    for row in table.rows:\n",
        "        for cell in row.cells:\n",
        "            if is_merged(cell):\n",
        "              merged_data = get_merged_data(cell)\n",
        "              if merged_data:\n",
        "                print(merged_data)"
      ]
    },
    {
      "cell_type": "code",
      "execution_count": null,
      "metadata": {
        "id": "KqJ1yoHBg8Bh"
      },
      "outputs": [],
      "source": [
        "#NEWWWWWWWWWWWWWW"
      ]
    },
    {
      "cell_type": "code",
      "execution_count": null,
      "metadata": {
        "id": "neWM1I7cg8EB"
      },
      "outputs": [],
      "source": [
        "def is_merged(cell):\n",
        "    tc = cell._tc\n",
        "    vMerge = tc.find(\".//w:vMerge\", namespaces=tc.nsmap)\n",
        "    return vMerge is not None"
      ]
    },
    {
      "cell_type": "code",
      "execution_count": null,
      "metadata": {
        "id": "zs3pGnqMREfH"
      },
      "outputs": [],
      "source": [
        "def get_merged_content(cells):\n",
        "    merged_content = \"\"\n",
        "    for cell in cells:\n",
        "        merged_content += cell.text.strip() + \" \"\n",
        "    return merged_content.strip()\n",
        "\n",
        "\n",
        "    Long and wide"
      ]
    },
    {
      "cell_type": "code",
      "execution_count": null,
      "metadata": {
        "colab": {
          "base_uri": "https://localhost:8080/",
          "height": 929
        },
        "id": "Je5PWQ_nREh9",
        "outputId": "5e5e12ad-66c9-4c89-966a-e0e59183c0f7"
      },
      "outputs": [
        {
          "name": "stdout",
          "output_type": "stream",
          "text": [
            "Approved date for animal use to begin\n",
            "July 2023\n",
            "July 2023\n",
            "July 2023\n",
            "Approved date for animal use to end\n",
            "July 2026\n",
            "July 2026\n",
            "July 2026\n",
            "Project duration\n",
            "3 years\n",
            "3 years\n",
            "3 years\n",
            "Does this application relate to a previously approved Protocol?\n",
            "Yes\t☒ No\n",
            "Yes\t☒ No\n",
            "Yes\t☒ No\n",
            "If so, give previous approval number(s)\n",
            "\n",
            "\n",
            "\n",
            "Have reports on these projects been lodged?\n",
            "Yes\t☒ No\n",
            "Yes\t☒ No\n",
            "Yes\t☒ No\n",
            "Does this project involve any of the following:\n",
            "Undergraduate Student\t☐ Honours Student\n",
            "☒ Masters Student\t☐ PhD Student\n",
            "Undergraduate Student\t☐ Honours Student\n",
            "☒ Masters Student\t☐ PhD Student\n",
            "Undergraduate Student\t☐ Honours Student\n",
            "☒ Masters Student\t☐ PhD Student\n"
          ]
        },
        {
          "ename": "AttributeError",
          "evalue": "ignored",
          "output_type": "error",
          "traceback": [
            "\u001b[0;31m---------------------------------------------------------------------------\u001b[0m",
            "\u001b[0;31mAttributeError\u001b[0m                            Traceback (most recent call last)",
            "\u001b[0;32m<ipython-input-40-1d2435ad9e3b>\u001b[0m in \u001b[0;36m<cell line: 1>\u001b[0;34m()\u001b[0m\n\u001b[1;32m      9\u001b[0m                 \u001b[0;32mwhile\u001b[0m \u001b[0;32mTrue\u001b[0m\u001b[0;34m:\u001b[0m\u001b[0;34m\u001b[0m\u001b[0;34m\u001b[0m\u001b[0m\n\u001b[1;32m     10\u001b[0m                     \u001b[0mnext_cell\u001b[0m \u001b[0;34m=\u001b[0m \u001b[0mcurrent_cell\u001b[0m\u001b[0;34m.\u001b[0m\u001b[0m_element\u001b[0m\u001b[0;34m.\u001b[0m\u001b[0mgetnext\u001b[0m\u001b[0;34m(\u001b[0m\u001b[0;34m)\u001b[0m\u001b[0;34m\u001b[0m\u001b[0;34m\u001b[0m\u001b[0m\n\u001b[0;32m---> 11\u001b[0;31m                     \u001b[0;32mif\u001b[0m \u001b[0mis_merged\u001b[0m\u001b[0;34m(\u001b[0m\u001b[0mnext_cell\u001b[0m\u001b[0;34m)\u001b[0m\u001b[0;34m:\u001b[0m\u001b[0;34m\u001b[0m\u001b[0;34m\u001b[0m\u001b[0m\n\u001b[0m\u001b[1;32m     12\u001b[0m                         \u001b[0mmerged_cells\u001b[0m\u001b[0;34m.\u001b[0m\u001b[0mwrite\u001b[0m\u001b[0;34m(\u001b[0m\u001b[0mnext_cell\u001b[0m\u001b[0;34m)\u001b[0m\u001b[0;34m\u001b[0m\u001b[0;34m\u001b[0m\u001b[0m\n\u001b[1;32m     13\u001b[0m                         \u001b[0mcurrent_cell\u001b[0m \u001b[0;34m=\u001b[0m \u001b[0mnext_cell\u001b[0m\u001b[0;34m\u001b[0m\u001b[0;34m\u001b[0m\u001b[0m\n",
            "\u001b[0;32m<ipython-input-36-03b5c5f0f96b>\u001b[0m in \u001b[0;36mis_merged\u001b[0;34m(cell)\u001b[0m\n\u001b[1;32m      1\u001b[0m \u001b[0;32mdef\u001b[0m \u001b[0mis_merged\u001b[0m\u001b[0;34m(\u001b[0m\u001b[0mcell\u001b[0m\u001b[0;34m)\u001b[0m\u001b[0;34m:\u001b[0m\u001b[0;34m\u001b[0m\u001b[0;34m\u001b[0m\u001b[0m\n\u001b[0;32m----> 2\u001b[0;31m     \u001b[0mtc\u001b[0m \u001b[0;34m=\u001b[0m \u001b[0mcell\u001b[0m\u001b[0;34m.\u001b[0m\u001b[0m_tc\u001b[0m\u001b[0;34m\u001b[0m\u001b[0;34m\u001b[0m\u001b[0m\n\u001b[0m\u001b[1;32m      3\u001b[0m     \u001b[0mvMerge\u001b[0m \u001b[0;34m=\u001b[0m \u001b[0mtc\u001b[0m\u001b[0;34m.\u001b[0m\u001b[0mfind\u001b[0m\u001b[0;34m(\u001b[0m\u001b[0;34m\".//w:vMerge\"\u001b[0m\u001b[0;34m,\u001b[0m \u001b[0mnamespaces\u001b[0m\u001b[0;34m=\u001b[0m\u001b[0mtc\u001b[0m\u001b[0;34m.\u001b[0m\u001b[0mnsmap\u001b[0m\u001b[0;34m)\u001b[0m\u001b[0;34m\u001b[0m\u001b[0;34m\u001b[0m\u001b[0m\n\u001b[1;32m      4\u001b[0m     \u001b[0;32mreturn\u001b[0m \u001b[0mvMerge\u001b[0m \u001b[0;32mis\u001b[0m \u001b[0;32mnot\u001b[0m \u001b[0;32mNone\u001b[0m\u001b[0;34m\u001b[0m\u001b[0;34m\u001b[0m\u001b[0m\n",
            "\u001b[0;31mAttributeError\u001b[0m: 'CT_Tc' object has no attribute '_tc'"
          ]
        }
      ],
      "source": [
        "if table:\n",
        "    for row in table.rows:\n",
        "        for cell in row.cells:\n",
        "            if is_merged(cell):\n",
        "                # Create a list to collect cells in the merged group\n",
        "                merged_cells = [cell]\n",
        "                # Find all cells in the merged group\n",
        "                current_cell = cell\n",
        "                while True:\n",
        "                    next_cell = current_cell._element.getnext()\n",
        "                    if is_merged(next_cell):\n",
        "                        merged_cells.write(next_cell)\n",
        "                        current_cell = next_cell\n",
        "                    else:\n",
        "                        break\n",
        "                # Extract content from the merged group and print it only once\n",
        "                merged_content = get_merged_content(merged_cells)\n",
        "                if merged_content:\n",
        "                  print(\"JJJJ\")\n",
        "                  print(merged_content)\n",
        "            else:\n",
        "                # Print content from non-merged cells directly\n",
        "                print(cell.text.strip())"
      ]
    },
    {
      "cell_type": "code",
      "execution_count": null,
      "metadata": {
        "id": "dQe2S85J-KdD"
      },
      "outputs": [],
      "source": []
    },
    {
      "cell_type": "code",
      "execution_count": null,
      "metadata": {
        "id": "VsvR22Tg-KgY"
      },
      "outputs": [],
      "source": [
        "Have reports on these projects been lodged?\t☐\tYes\t☒ No"
      ]
    },
    {
      "cell_type": "code",
      "execution_count": null,
      "metadata": {
        "colab": {
          "base_uri": "https://localhost:8080/"
        },
        "id": "i3okqlVhRElT",
        "outputId": "4eb7472d-d633-4d4d-ef00-39febd4cc581"
      },
      "outputs": [
        {
          "name": "stdout",
          "output_type": "stream",
          "text": [
            "Cell data: Approved date for animal use to begin\n",
            "Cell data: July 2023\n",
            "Cell data: July 2023\n",
            "Cell data: July 2023\n",
            "Cell data: Approved date for animal use to end\n",
            "Cell data: July 2026\n",
            "Cell data: July 2026\n",
            "Cell data: July 2026\n",
            "Cell data: Project duration\n",
            "Cell data: 3 years\n",
            "Cell data: 3 years\n",
            "Cell data: 3 years\n",
            "Cell data: Does this application relate to a previously approved Protocol?\n",
            "Cell data: Yes\t☒ No\n",
            "Cell data: Yes\t☒ No\n",
            "Cell data: Yes\t☒ No\n",
            "Cell data: If so, give previous approval number(s)\n",
            "Cell data: \n",
            "Cell data: \n",
            "Cell data: \n",
            "Cell data: Have reports on these projects been lodged?\n",
            "Cell data: Yes\t☒ No\n",
            "Cell data: Yes\t☒ No\n",
            "Cell data: Yes\t☒ No\n",
            "Cell data: Does this project involve any of the following:\n",
            "Cell data: Undergraduate Student\t☐ Honours Student\n",
            "☒ Masters Student\t☐ PhD Student\n",
            "Cell data: Undergraduate Student\t☐ Honours Student\n",
            "☒ Masters Student\t☐ PhD Student\n",
            "Cell data: Undergraduate Student\t☐ Honours Student\n",
            "☒ Masters Student\t☐ PhD Student\n",
            "bye\n",
            "Merged cell data: Funding\n",
            "Cell data: Is this project grant or\n",
            "industry funded?\n",
            "Cell data: ☒ Yes\n",
            "Cell data: No\n",
            "bye\n",
            "Merged cell data: Funding\n",
            "Cell data: If yes, what is the\n",
            "funding body?\n",
            "Cell data: NHMRC\n",
            "Cell data: NHMRC\n",
            "bye\n",
            "Merged cell data: Funding\n",
            "Cell data: What is the funding\n",
            "approval number?\n",
            "Cell data: GNT1165107\n",
            "Cell data: GNT1165107\n",
            "bye\n",
            "Merged cell data: Funding\n",
            "Cell data: If no, what is the Cost\n",
            "Centre Code for this project?\n",
            "Cell data: \n",
            "Cell data: \n"
          ]
        }
      ],
      "source": [
        "if table:\n",
        "    for row in table.rows:\n",
        "        for cell in row.cells:\n",
        "            # Access the underlying XML element for the cell\n",
        "            tc = cell._element\n",
        "\n",
        "            # Check if the cell is part of a merged group\n",
        "            grid_span = tc.find(\".//w:vMerge\", namespaces=tc.nsmap)\n",
        "            if grid_span is not None:\n",
        "                print(\"bye\")\n",
        "                # This cell is part of a merged group\n",
        "                # Extract and handle the merged cell data as needed\n",
        "                merged_data = cell.text.strip()\n",
        "                print(f\"Merged cell data: {merged_data}\")\n",
        "            else:\n",
        "                # This cell is not merged, process it as usual\n",
        "                cell_data = cell.text.strip()\n",
        "                print(f\"Cell data: {cell_data}\")\n"
      ]
    },
    {
      "cell_type": "code",
      "execution_count": null,
      "metadata": {
        "id": "zztCNCDqg8Hr"
      },
      "outputs": [],
      "source": [
        "def is_merged(cell):\n",
        "    tc = cell._tc\n",
        "    grid_span = tc.find(\".//w:vMerge\", namespaces=tc.nsmap)\n",
        "    return grid_span is not None"
      ]
    },
    {
      "cell_type": "code",
      "execution_count": null,
      "metadata": {
        "id": "HGRN1awMWqZt"
      },
      "outputs": [],
      "source": [
        "def extract_merged_data(cell):\n",
        "    # Extract the text content of merged cells\n",
        "    merged_data = [cell.text.strip()]\n",
        "    print(\"tt\")\n",
        "    # Find the merged group and add data from all merged cells to the list\n",
        "    current_cell = cell\n",
        "    while True:\n",
        "        next_cell = current_cell._element.getnext()\n",
        "        print(next_cell.text)\n",
        "        if next_cell is not None:\n",
        "            merged_data.append(next_cell.text)\n",
        "            current_cell = next_cell\n",
        "        else:\n",
        "            break"
      ]
    },
    {
      "cell_type": "code",
      "execution_count": null,
      "metadata": {
        "colab": {
          "base_uri": "https://localhost:8080/",
          "height": 401
        },
        "id": "9mJn8-GtWqfV",
        "outputId": "de4f346e-89ed-4c1d-8998-363d836b1b9c"
      },
      "outputs": [
        {
          "name": "stdout",
          "output_type": "stream",
          "text": [
            "tt\n",
            "None\n"
          ]
        },
        {
          "ename": "AttributeError",
          "evalue": "ignored",
          "output_type": "error",
          "traceback": [
            "\u001b[0;31m---------------------------------------------------------------------------\u001b[0m",
            "\u001b[0;31mAttributeError\u001b[0m                            Traceback (most recent call last)",
            "\u001b[0;32m<ipython-input-52-27cb82035114>\u001b[0m in \u001b[0;36m<cell line: 1>\u001b[0;34m()\u001b[0m\n\u001b[1;32m      3\u001b[0m         \u001b[0;32mfor\u001b[0m \u001b[0mcell\u001b[0m \u001b[0;32min\u001b[0m \u001b[0mrow\u001b[0m\u001b[0;34m.\u001b[0m\u001b[0mcells\u001b[0m\u001b[0;34m:\u001b[0m\u001b[0;34m\u001b[0m\u001b[0;34m\u001b[0m\u001b[0m\n\u001b[1;32m      4\u001b[0m             \u001b[0;32mif\u001b[0m \u001b[0mis_merged\u001b[0m\u001b[0;34m(\u001b[0m\u001b[0mcell\u001b[0m\u001b[0;34m)\u001b[0m\u001b[0;34m:\u001b[0m\u001b[0;34m\u001b[0m\u001b[0;34m\u001b[0m\u001b[0m\n\u001b[0;32m----> 5\u001b[0;31m                 \u001b[0mmerged_data\u001b[0m \u001b[0;34m=\u001b[0m \u001b[0mextract_merged_data\u001b[0m\u001b[0;34m(\u001b[0m\u001b[0mcell\u001b[0m\u001b[0;34m)\u001b[0m\u001b[0;34m\u001b[0m\u001b[0;34m\u001b[0m\u001b[0m\n\u001b[0m\u001b[1;32m      6\u001b[0m                 \u001b[0;31m# Replace the content of the merged cell with the combined data\u001b[0m\u001b[0;34m\u001b[0m\u001b[0;34m\u001b[0m\u001b[0m\n\u001b[1;32m      7\u001b[0m                 \u001b[0mcell\u001b[0m\u001b[0;34m.\u001b[0m\u001b[0mparagraphs\u001b[0m\u001b[0;34m[\u001b[0m\u001b[0;36m0\u001b[0m\u001b[0;34m]\u001b[0m\u001b[0;34m.\u001b[0m\u001b[0mclear\u001b[0m\u001b[0;34m(\u001b[0m\u001b[0;34m)\u001b[0m\u001b[0;34m\u001b[0m\u001b[0;34m\u001b[0m\u001b[0m\n",
            "\u001b[0;32m<ipython-input-51-4c5f245d724b>\u001b[0m in \u001b[0;36mextract_merged_data\u001b[0;34m(cell)\u001b[0m\n\u001b[1;32m      6\u001b[0m     \u001b[0mcurrent_cell\u001b[0m \u001b[0;34m=\u001b[0m \u001b[0mcell\u001b[0m\u001b[0;34m\u001b[0m\u001b[0;34m\u001b[0m\u001b[0m\n\u001b[1;32m      7\u001b[0m     \u001b[0;32mwhile\u001b[0m \u001b[0;32mTrue\u001b[0m\u001b[0;34m:\u001b[0m\u001b[0;34m\u001b[0m\u001b[0;34m\u001b[0m\u001b[0m\n\u001b[0;32m----> 8\u001b[0;31m         \u001b[0mnext_cell\u001b[0m \u001b[0;34m=\u001b[0m \u001b[0mcurrent_cell\u001b[0m\u001b[0;34m.\u001b[0m\u001b[0m_element\u001b[0m\u001b[0;34m.\u001b[0m\u001b[0mgetnext\u001b[0m\u001b[0;34m(\u001b[0m\u001b[0;34m)\u001b[0m\u001b[0;34m\u001b[0m\u001b[0;34m\u001b[0m\u001b[0m\n\u001b[0m\u001b[1;32m      9\u001b[0m         \u001b[0mprint\u001b[0m\u001b[0;34m(\u001b[0m\u001b[0mnext_cell\u001b[0m\u001b[0;34m.\u001b[0m\u001b[0mtext\u001b[0m\u001b[0;34m)\u001b[0m\u001b[0;34m\u001b[0m\u001b[0;34m\u001b[0m\u001b[0m\n\u001b[1;32m     10\u001b[0m         \u001b[0;32mif\u001b[0m \u001b[0mnext_cell\u001b[0m \u001b[0;32mis\u001b[0m \u001b[0;32mnot\u001b[0m \u001b[0;32mNone\u001b[0m\u001b[0;34m:\u001b[0m\u001b[0;34m\u001b[0m\u001b[0;34m\u001b[0m\u001b[0m\n",
            "\u001b[0;31mAttributeError\u001b[0m: 'CT_Tc' object has no attribute '_element'"
          ]
        }
      ],
      "source": [
        "if table:\n",
        "    for row in table.rows:\n",
        "        for cell in row.cells:\n",
        "            if is_merged(cell):\n",
        "                merged_data = extract_merged_data(cell)\n",
        "                # Replace the content of the merged cell with the combined data\n",
        "                cell.paragraphs[0].clear()\n",
        "                cell.add_paragraph(merged_data)\n",
        "                print(f\"Merged cell data: {merged_data}\")"
      ]
    },
    {
      "cell_type": "code",
      "execution_count": null,
      "metadata": {
        "id": "Fmasx8JKWqiM"
      },
      "outputs": [],
      "source": []
    },
    {
      "cell_type": "code",
      "execution_count": null,
      "metadata": {
        "id": "ZklHXTF1Wqkw"
      },
      "outputs": [],
      "source": []
    },
    {
      "cell_type": "code",
      "execution_count": null,
      "metadata": {
        "id": "Uos1UXhXWqnY"
      },
      "outputs": [],
      "source": []
    },
    {
      "cell_type": "code",
      "execution_count": null,
      "metadata": {
        "id": "Q47xpuDCWqq0"
      },
      "outputs": [],
      "source": []
    },
    {
      "cell_type": "code",
      "execution_count": null,
      "metadata": {
        "id": "aE5cYkl7g8LH"
      },
      "outputs": [],
      "source": []
    },
    {
      "cell_type": "code",
      "execution_count": null,
      "metadata": {
        "colab": {
          "base_uri": "https://localhost:8080/",
          "height": 245
        },
        "id": "ptUKyu9KZnGz",
        "outputId": "83ec7025-bd14-4648-9ea3-448d1e0aa2a0"
      },
      "outputs": [
        {
          "ename": "NameError",
          "evalue": "ignored",
          "output_type": "error",
          "traceback": [
            "\u001b[0;31m---------------------------------------------------------------------------\u001b[0m",
            "\u001b[0;31mNameError\u001b[0m                                 Traceback (most recent call last)",
            "\u001b[0;32m<ipython-input-29-c3fd4d69009c>\u001b[0m in \u001b[0;36m<cell line: 2>\u001b[0;34m()\u001b[0m\n\u001b[1;32m      1\u001b[0m \u001b[0mtarget_checkbox_title\u001b[0m \u001b[0;34m=\u001b[0m \u001b[0;34m\"CheckBox\"\u001b[0m\u001b[0;34m\u001b[0m\u001b[0;34m\u001b[0m\u001b[0m\n\u001b[0;32m----> 2\u001b[0;31m \u001b[0;32mfor\u001b[0m \u001b[0mparagraph\u001b[0m \u001b[0;32min\u001b[0m \u001b[0mdoc\u001b[0m\u001b[0;34m.\u001b[0m\u001b[0mparagraphs\u001b[0m\u001b[0;34m:\u001b[0m\u001b[0;34m\u001b[0m\u001b[0;34m\u001b[0m\u001b[0m\n\u001b[0m\u001b[1;32m      3\u001b[0m     \u001b[0;32mfor\u001b[0m \u001b[0mrun\u001b[0m \u001b[0;32min\u001b[0m \u001b[0mparagraph\u001b[0m\u001b[0;34m.\u001b[0m\u001b[0mruns\u001b[0m\u001b[0;34m:\u001b[0m\u001b[0;34m\u001b[0m\u001b[0;34m\u001b[0m\u001b[0m\n\u001b[1;32m      4\u001b[0m         \u001b[0;32mif\u001b[0m \u001b[0mrun\u001b[0m\u001b[0;34m.\u001b[0m\u001b[0mtext\u001b[0m \u001b[0;34m==\u001b[0m \u001b[0mtarget_checkbox_title\u001b[0m\u001b[0;34m:\u001b[0m\u001b[0;34m\u001b[0m\u001b[0;34m\u001b[0m\u001b[0m\n\u001b[1;32m      5\u001b[0m             \u001b[0;31m# Check if the checkbox is checked\u001b[0m\u001b[0;34m\u001b[0m\u001b[0;34m\u001b[0m\u001b[0m\n",
            "\u001b[0;31mNameError\u001b[0m: name 'doc' is not defined"
          ]
        }
      ],
      "source": [
        "target_checkbox_title = \"CheckBox\"\n",
        "for paragraph in doc.paragraphs:\n",
        "    for run in paragraph.runs:\n",
        "        if run.text == target_checkbox_title:\n",
        "            # Check if the checkbox is checked\n",
        "            if run._element.getparent().getnext().find(\"{http://schemas.openxmlformats.org/wordprocessingml/2006/main}checkBox\"):\n",
        "                print(\"Checkbox is checked\")\n",
        "            else:\n",
        "                print(\"Checkbox is not checked\")\n"
      ]
    },
    {
      "cell_type": "code",
      "execution_count": null,
      "metadata": {
        "id": "76hYZJ1qZnJd"
      },
      "outputs": [],
      "source": []
    },
    {
      "cell_type": "code",
      "execution_count": null,
      "metadata": {
        "id": "cgm7-TzfZnMY"
      },
      "outputs": [],
      "source": [
        "from docx import Document\n",
        "\n",
        "doc = Document(\"Test1.docx\")\n"
      ]
    },
    {
      "cell_type": "code",
      "execution_count": null,
      "metadata": {
        "id": "HNWDsdclZnPH"
      },
      "outputs": [],
      "source": [
        "target_checkbox_title = \"CheckBox\"\n",
        "for paragraph in doc.paragraphs:\n",
        "    for run in paragraph.runs:\n",
        "        if run.text == target_checkbox_title:\n",
        "            # Check if the checkbox is checked\n",
        "            if run._element.getparent().getnext().find(\"{http://schemas.openxmlformats.org/wordprocessingml/2006/main}checkBox\"):\n",
        "                print(\"Checkbox is checked\")\n",
        "            else:\n",
        "                print(\"Checkbox is not checked\")\n"
      ]
    },
    {
      "cell_type": "code",
      "execution_count": null,
      "metadata": {
        "id": "lkuQL8OvZnR3"
      },
      "outputs": [],
      "source": []
    },
    {
      "cell_type": "code",
      "execution_count": null,
      "metadata": {
        "id": "S8HwP-jgZnVg"
      },
      "outputs": [],
      "source": []
    },
    {
      "cell_type": "code",
      "execution_count": null,
      "metadata": {
        "id": "wWY46ReIybrK"
      },
      "outputs": [],
      "source": [
        "import docx2txt\n",
        "\n",
        "# read in word file\n",
        "result1 = docx2txt.process(\"Test1.docx\")"
      ]
    },
    {
      "cell_type": "code",
      "execution_count": null,
      "metadata": {
        "colab": {
          "base_uri": "https://localhost:8080/",
          "height": 1000
        },
        "id": "68GJfacc0KPP",
        "outputId": "4b0c67b9-76e7-4968-8935-b79241507e0f"
      },
      "outputs": [
        {
          "data": {
            "application/vnd.google.colaboratory.intrinsic+json": {
              "type": "string"
            },
            "text/plain": [
              "\"UNIVERSITY OF SOUTH AUSTRALIA APPLICATION FOR ANIMAL ETHICS COMMITTEE APPROVAL OF\\n\\nPROJECT INVOLVING FACILITY-BASED RESEARCH ANIMALS\\n\\n(NOT Wildlife, Teaching or Breeding Colony Applications)\\n\\nAll applications must be submitted to animalethics@unisa.edu.au for a completeness check a week prior to the application closing date. A notification of intention to submit to the upcoming meeting should be sent to animalethics@unisa.edu.au, 4 weeks prior to the application closing date, or as soon as possible.\\n\\nEmail completed form (in Word document format) to animalethics@unisa.edu.au by 11.59pm on the application closing date.\\n\\nNote: To cross check boxes, click on the box\\n\\n\\n\\nOffice Use Only\\n\\nApplication Number:\\n\\nU16-23\\n\\nDate Received:\\n\\n11/7/23\\n\\nVersion Number:\\n\\n1\\n\\n\\n\\nTitle of Project\\n\\nOral delivery of vitamin D analogues in chemotherapy‐induced\\n\\ngastrointestinal mucositis.\\n\\nName of Primary Applicant\\n\\nPaul Anderson\\n\\nSpecies/Strain(s)\\n\\nMice/ C57black6\\n\\nProcedure Types (Refer Q3.1)\\n\\nMinor Conscious Intervention; Minor procedures with recovery; Minor physiological challenge\\n\\nPain Classifications (Refer Q3.2)\\n\\nMild, moderate\\n\\n\\n\\nApproved date for animal use to begin\\n\\nJuly 2023\\n\\nApproved date for animal use to end\\n\\nJuly 2026\\n\\nProject duration\\n\\n3 years\\n\\nDoes this application relate to a previously approved Protocol?\\n\\n\\t\\tYes\\t☒ No\\n\\nIf so, give previous approval number(s)\\n\\n\\n\\nHave reports on these projects been lodged?\\n\\n\\t\\tYes\\t☒ No\\n\\nDoes this project involve any of the following:\\n\\n\\t\\tUndergraduate Student\\t☐ Honours Student\\n\\n\\t☒ Masters Student\\t☐ PhD Student\\n\\n\\n\\n\\n\\n\\n\\n\\n\\nFunding\\n\\nIs this project grant or\\n\\nindustry funded?\\n\\n☒ Yes\\n\\n\\tNo\\n\\n\\n\\nIf yes, what is the\\n\\nfunding body?\\n\\nNHMRC\\n\\n\\n\\nWhat is the funding\\n\\napproval number?\\n\\nGNT1165107\\n\\n\\n\\nIf no, what is the Cost\\n\\nCentre Code for this project?\\n\\n\\n\\n\\n\\n\\n\\n\\n\\n\\n\\n\\n\\nDeclaration of interest\\n\\nIs there any actual or potential interest, including financial interest or other relationship or affiliation by any research/team member involved in the project that may affect judgements and decisions regarding the wellbeing of the animals involved? See Code Clause 2.7.4 [xxi]\\n\\n\\t\\tYes\\t☒ No\\n\\nIf yes, outline the potential and any steps to be taken to ensure the ethical integrity of the project.\\n\\n\\n\\nPrimary Applicant\\n\\nReminder: All projects must have a Primary and Co-applicant. Students may not be Primary or Co-applicants. The Co-applicant must be a person able to assume responsibility for the project in the Primary Applicant’s absence.\\n\\n\\n\\nName (include title)\\n\\nA/Prof Paul Anderson\\n\\nApplicant's Institution and Department\\n\\nUniversity of South Australia, Clinical & Health Sciences\\n\\n\\n\\nContact details (including After Hours)\\n\\nEmail\\n\\nPaul.anderson@unisa.edu.au\\n\\n\\n\\nPhone\\n\\n83027387\\n\\n\\n\\nMobile\\n\\n0410531293\\n\\nContact person\\n\\n\\n\\nCo-applicant\\n\\nName (include title)\\n\\nMs Rebecca Sawyer\\n\\nInstitution and Department\\n\\nUniversity of South Australia, Clinical & Health Sciences\\n\\n\\n\\nContact details (including After Hours)\\n\\nEmail\\n\\nRebecca.sawyer@unisa.edu.au\\n\\n\\n\\nPhone\\n\\n83027395\\n\\n\\n\\nMobile\\n\\n0419827739\\n\\n\\n\\nOther Applicant/s\\n\\n\\n\\nName (include title)\\n\\nDr Andrea Stringer\\n\\nInstitution and Department\\n\\nUniSA, CHS.\\n\\n\\n\\nContact details (including After Hours)\\n\\nEmail\\n\\nandrea.stringer@unisa.edu.au\\n\\n\\n\\nPhone\\n\\n83027388\\n\\n\\n\\nMobile\\n\\n0409 698 419\\n\\nName (include title)\\n\\nMs Helen Tsangari\\n\\nInstitution and Department\\n\\nUniversity of South Australia, Clinical & Health Sciences\\n\\n\\n\\nEmail\\n\\nhelen.tsangari@unisa.edu.au\\n\\n\\n\\nContact details (including After Hours)\\n\\nPhone\\n\\n\\n\\n\\n\\nMobile\\n\\n0416242754\\n\\nName (include title)\\n\\nPhir Thianhlun (Masters Student)\\n\\nInstitution and Department\\n\\nUniSA, CHS\\n\\n\\n\\nContact details (including After Hours)\\n\\nEmail\\n\\nphir.thianhlun@mymail.unisa.edu.au\\n\\n\\n\\nPhone\\n\\n\\n\\n\\n\\nMobile\\n\\n0421 327 824\\n\\nName (include title)\\n\\nDr Anthony Wignall\\n\\nInstitution and Department\\n\\nUniSA, CHS\\n\\n\\n\\nContact details (including After Hours)\\n\\nEmail\\n\\nanthony.wignall@unisa.edu.au\\n\\n\\n\\nPhone\\n\\n\\n\\n\\n\\nMobile\\n\\n0407434166\\n\\n\\n\\n\\tShort lay summary (100-150 words maximum)\\n\\nThis question must be answered in everyday English; no scientific or technical words, acronyms or references should be used in this section. This answer should comprise a compact summary of the entire project.\\n\\n\\n\\n\\n\\nThis study will investigate whether intestinal damage (mucositis) due to chemotherapy treatment is improved by oral delivery of vitamin D compounds. Intestinal damage due to chemotherapy affects whether patients can receive the total amount of prescribed cancer treatment. Patient quality of life, both during and after chemotherapy, is also significantly impacted by intestinal damage. Patients undergoing chemotherapy frequently are vitamin D deficient. Experimental evidence suggests that enhancing vitamin D activity, could protect the intestine, promoting repair and decreasing inflammation in the intestine that occurs with chemotherapy use. Using a well-described mouse model, we want to assess whether the oral delivery of vitamin D compounds that enhance vitamin D activity improves the protection against chemotherapy-induced intestinal damage.\\n\\n\\n\\n\\n\\n\\tProvide a lay description of the project, its hypothesis and aims.\\n\\nThis question must be answered in everyday English; no scientific or technical words, acronyms or references should be used in this section.\\n\\n\\n\\n\\n\\nCancer patients undergoing chemotherapy often develop severe toxic side effects causing pain and distress. This toxicity impacts the ability of patients to tolerate and complete the entire course of cancer treatment prescribed, with quality of life affected both during and sometimes long after treatment. One such side effect is gastrointestinal (GI) mucositis, or\\n\\n\\n\\nsimply gut damage, which occurs early following chemotherapy, and often leads to dose reductions and treatment breaks in cancer treatment. Gut damage due to chemotherapy causes irreversible DNA damage to intestinal stem cells, inflammation, and cell death. This gut damage is characterised by smaller structures and a smaller surface area of the intestine, so a smaller proportion of nutrients can be absorbed via the gut into circulation. In addition, poor absorption of nutrients leads to higher water levels left in the gut than usual, resulting in diarrhoea. Severe diarrhoea leads to dehydration and malnutrition.\\n\\nCurrently, there are no effective treatments for gut damage due to chemotherapy. Identifying new and safe preventative treatments for this type of gut damage will lead to improved patient well-being and improve the prospects of prescribed chemotherapy continuing unabated.\\n\\nOne such potential safe therapy is vitamin D. A number of observations lead us to believe that vitamin D may play an important therapeutic role.\\n\\n\\tChemotherapy patients have a high prevalence of vitamin D deficiency\\n\\n\\tChemotherapy causes a decline in circulating and tissue levels of active vitamin D (1,25(OH)2D3) levels.\\n\\n\\tVitamin D deficiency has been shown to increase inflammation and abnormal immune processes and increase gut cell death.\\n\\n\\tOral delivery of vitamin D compounds, such as 1,25-dihydroxyvitamin D and 19-nor- dihydroxyvitamin D has previously given effectively to raise blood levels of vitamin D metabolites and enhance vitamin D activity, in a manner that is safe for mice and humans.\\n\\n\\tOral delivery of 1,25-dihydroxyvitamin D and 19-nor-dihydroxyvitamin D has been shown to be absorbed into intestinal cells which are same cells that are impacted by chemotherapy.\\n\\n\\tDemonstrating that the oral delivery of vitamin D compounds can prevent intestinal damage due to chemotherapy will establish the rationale for developing the best therapeutic approaches for future human use.\\n\\n\\tWe have previously shown that when normal mice were given a drug by injections to stop vitamin D breakdown (VD1-6), there was protection against gut damage due to chemotherapy. Similarly, VD1-6 should reduce the breakdown of co-administered 1,25- dihydroxyvitamin D and 19-nor-dihydroxyvitamin D when given in combination.\\n\\n\\n\\n\\n\\nThe role that vitamin D 1,25-dihydroxyvitamin D and 19-nor-dihydroxyvitamin D (and VD1-6) plays as a medication by oral delivery during chemotherapy has not been specifically investigated and compared between male and female mice.\\n\\n\\n\\nWe hypothesise that enhancing vitamin D activity via oral delivery will reduce in early phases of gut damage due to chemotherapy.\\n\\n\\n\\n\\n\\n\\tUsing lay language describe what happens to the animals from the time they are obtained until the time the project is completed.\\n\\nThis question must be answered in everyday English; no scientific or technical words, acronyms or references should be used in this section. This answer should be a “big picture” overview of the project, from the point of view of the animals’ experiences during it.\\n\\n\\n\\n\\n\\n7-week-old male and female mice will be obtained from a CAF approved supplier and transported as per standard shipping conditions. When mice arrive at the CAF, they will be housed under standard IVC housing conditions with 5 mice per cage with standard feed and water and allowed to acclimatise for seven days.\\n\\n\\n\\nAt 8 weeks of age, mice will be fed a control diet containing defined calcium levels and receive daily oral treatments for up to 7 days. The treatment for each mouse will be either a control solution or one of number of active vitamin D compounds contained in 0.1 mls. In the morning, mice will be restrained to deliver their assigned treatment via a blunt ended needle designed to deliver a precise volume directly to the stomach, via the mouth. Each mouse will then be returned to their cage after each of their daily oral treatments, where they will then be monitored daily.\\n\\nOn the 5th day of oral treatments, all mice will receive 5th oral dose and then will be moved to the cytotoxic procedure room to receive a single dose of chemotherapy solution (or control solution) via an intra-peritoneal injection. The chemotherapy agent, called 5- Fluorouracil, is a cytotoxic drug and so mice will be lightly anaesthetised receive the intra-peritoneal injection, in order to deliver an accurate dose and avoid any risk of needle stick injury to the researcher. Mice will then be housed in the cytotoxic holding room, monitored 2 hours later, and will remain in the cytotoxic suite until the end of the experiment.\\n\\n\\n\\nFor half of the mice, the single dose of chemotherapy solution will given in the morning and will be humanely killed 6 hours later in the cytotoxic procedure room. For the other half of mice, the single dose of chemotherapy solution will be given in the afternoon. These mice will receive 2 more daily oral treatments in the morning and will be humanely killed 48 hours after the single dose of chemotherapy solution was given.\\n\\n\\n\\nFor all mice, at time of death, mice will first be anaesthetised to be able to collect blood via cardiac puncture, immediately followed by cervical dislocation.\\n\\n\\n\\nBlood collected will be used to measure blood levels for calcium and vitamin D metabolites. The small intestine, large intestine and kidneys will be collected to assess changes in tissues due to treatments (using histological and gene expression analyses.)\\n\\n\\n\\n\\n\\n\\tBackground scientific data, experimental plan and flow chart\\n\\nThis answer should include any relevant background scientific data.\\n\\n\\t\\tChemotherapy patients have a high prevalence of vitamin D deficiency and mucositis.\\n\\n\\n\\n\\tVitamin D deficiency has been shown to increase inflammation, abnormal immune processes, and gut cell death.\\n\\n\\tChemotherapy causes a decline in circulating active vitamin D (1,25(OH)2D3) levels in patients, suggesting that low vitamin D activity contributes to mucositis.\\n\\n\\tWe have previously shown that 5-FU causes gastrointestinal damage called mucositis in mice.\\n\\n\\tWe have previously shown that when normal mice were given a drug to stop vitamin D breakdown (VD1-6) by subcutaneous injections over seven days, there was protection against gut damage due to chemotherapy.\\n\\n\\tOral gavage of active vitamin D enhances genes and protein levels responsive to vitamin D 5 hours after delivery.\\n\\n\\n\\n\\n\\nExperimental plan:\\n\\n\\t\\t7 week old male and female C57black 6 mice will be acclimatised in the CAF facility\\n\\n\\t\\tAt 8 weeks of age, mice will be assigned a treatment group (n=11/group) as per the table below.\\n\\n\\t\\tAll mice will be fed a semi-synthetic diet (0.2% calcium) for the duration of the experiment. The dietary calcium of 0.2% has been shown to be adequate for mice without being excessive.\\n\\n6-hour Chemotherapy exposure:\\n\\n\\tMice will receive daily (morning) oral delivery of either control solution (0.5% Carboxymethylcellulose in saline), 1,25(OH)2D3 (50pg/gBW) with or without VD1-6 (500ng/gBW), or 19-nor-dihydroxyvitamin D2 (1000pg/gBW) with or without VD1-6 (500ng/gBW), or VD1-6 (500ng/gBW) alone.\\n\\n\\tOn the 5th day, mice will receive their assigned oral gavage followed by 5-FU (450mg/kgBW, IP).\\n\\n\\tMice will be monitored 2 hours after 5-FU administration.\\n\\n\\tMice will be anaesthetised 6 hours after 5-FU administration and blood will be collected via cardiac puncture for serum isolation and analyses.\\n\\n\\tMice with then be immediately humanely killed by cervical dislocation and major organ removal for analyses.\\n\\n\\tCRS will be completed at the time of each procedure. 48-hour Chemotherapy exposure:\\n\\n\\tMice will receive daily (morning) oral delivery of either control solution (0.5% Carboxymethylcellulose in saline), 1,25(OH)2D3 (50pg/gBW) with or without VD1-6 (500ng/gBW), or 19-nor-dihydroxyvitamin D2 (1000pg/gBW) with or without VD1-6 (500ng/gBW), or VD1-6 (500ng/gBW) alone.\\n\\n\\tOn the 5th day, mice will receive their assigned oral gavage in the morning and followed by 5- FU (450mg/kgBW, IP) in the afternoon.\\n\\n\\n\\n\\t\\tOn the 6th and 7th day, mice will receive the assigned oral (morning) treatment.\\n\\n\\t\\tMice will be anaesthetised in the afternoon (48-hours after 5-FU administration) and blood will be collected via cardiac puncture for serum isolation and analyses.\\n\\n\\t\\tMice with then be immediately humanely killed by cervical dislocation and major organ removal for analyses.\\n\\n\\t\\tCRS will be completed at the time of each procedure.\\n\\n\\n\\n\\n\\n\\n\\n\\n\\n\\n\\n\\n\\n\\n\\n\\n\\n\\n\\n\\n\\n\\n\\nMALE\\n\\nFEMALE\\n\\nExposure time to 5-FU\\n\\n6 hour\\n\\n48 hour\\n\\n6 hour\\n\\n48 hour\\n\\nChemo treatment\\n\\nSaline\\n\\n5-FU\\n\\nSaline\\n\\n5-FU\\n\\nSaline\\n\\n5-FU\\n\\nSaline\\n\\n5-FU\\n\\nControl\\n\\nN=11\\n\\nN=11\\n\\nN=11\\n\\nN=11\\n\\nN=11\\n\\nN=11\\n\\nN=11\\n\\nN=11\\n\\n1,25D\\n\\nN=11\\n\\nN=11\\n\\nN=11\\n\\nN=11\\n\\nN=11\\n\\nN=11\\n\\nN=11\\n\\nN=11\\n\\n19-nor-1,25D\\n\\nN=11\\n\\nN=11\\n\\nN=11\\n\\nN=11\\n\\nN=11\\n\\nN=11\\n\\nN=11\\n\\nN=11\\n\\nVD16\\n\\nN=11\\n\\nN=11\\n\\nN=11\\n\\nN=11\\n\\nN=11\\n\\nN=11\\n\\nN=11\\n\\nN=11\\n\\nVD1-6 + 1,25D\\n\\nN=11\\n\\nN=11\\n\\nN=11\\n\\nN=11\\n\\nN=11\\n\\nN=11\\n\\nN=11\\n\\nN=11\\n\\nVD1-6 + 19-nor-1,25D\\n\\nN=11\\n\\nN=11\\n\\nN=11\\n\\nN=11\\n\\nN=11\\n\\nN=11\\n\\nN=11\\n\\nN=11\\n\\n\\n\\n\\tPurpose of the project (select single (primary) purpose only)\\n\\n\\n\\n☐\\n\\nThe understanding of human or animal biology.\\n\\n☒\\n\\nThe maintenance or improvement of human or animal welfare.\\n\\n☐\\n\\nThe improvement of animal management or production.\\n\\n☐\\n\\nThe achievement of education objectives.\\n\\n☐\\n\\nEnvironmental study.\\n\\n\\t\\tTHE ANIMALS\\n\\n\\tAnimals required\\n\\n\\n\\nCommon Name\\n\\nScientific Name\\n\\n\\n\\nStrain\\n\\n\\n\\nSex\\n\\nAge or Size\\n\\nTotal number\\n\\nfor duration of project\\n\\nExplanation if\\n\\ntotal number is unknown\\n\\n\\n\\nMouse\\n\\nMus musculus\\n\\n\\n\\nC57Bl/6\\n\\nM\\n\\nand F\\n\\n\\n\\n7 weeks\\n\\n\\n\\n528\\n\\n\\n\\n\\t\\t\\t\\t\\t\\t\\t\\t\\t\\tList\\tthe\\twelfare\\tconcerns\\tspecific\\tto\\tmutant/GM\\tstrains\\tif applicable\\t\\tN/A\\n\\n\\tWhy are you using this species and strain?\\n\\nC57black/6 mice are commonly used for chemotherapy-induced mucositis. We have extensive experience in this model, and it is widely accepted as a suitable model which reflects GI mucositis.\\n\\n\\tIf only one gender is to be used, please justify why.\\n\\nTwo genders will be used to assess gender-specific effects of treatments.\\n\\n\\n\\n\\tAnimal source and housing\\n\\n\\n\\nSource:\\n\\nAnimal Resource Centre, Perth WA or CAF approved supplier\\n\\nAnimals held at:\\n\\nUniSA CAF\\n\\nTransport requirements:\\n\\nAs per CAF SOP\\n\\nProcedures performed at:\\n\\nUniSA CAF\\n\\nMaximum number housed at any one time:\\n\\n55\\n\\nMaximum time held:\\n\\n2 weeks\\n\\nSpecial considerations: Is any special feeding, handling or isolation required?\\n\\nSoaked softened food is required once chemotherapy (5-FU) has been given. Mice will be held in the cytotoxic suite for 6 to 48 hours post-cytotoxic drug treatment.\\n\\nHave any of the animals been the subject of previous scientific or teaching activity? (i.e. Reuse: Code ref (see Clauses 1.22–1.24 and 2.3.15)\\n\\nIf so explain why they are to be used again and include details of the previous use.\\n\\nNo\\n\\nAEC approval of a project does not guarantee that animals, space for holding them, or assistance from animal facility staff, will be automatically available. Liaison with management of the animal facility is essential.\\n\\n☒ I have liaised with the animal facility and have confirmation that the required resources are available. (Note: this must be done prior to submission to AEOs)\\n\\n☒ The signature of the Core Animal Facility Manager (or delegate) is included in Section 4\\n\\n(Note: this signature must be obtained prior to the application closing date)\\n\\n\\n\\n\\tAnimal Number Justification\\n\\n\\tIf a power calculation is applicable, detail below how the animal numbers are derived.\\n\\n\\tMultiple power calculations are required in applications featuring more than one experiment, i.e. where completely separate groups of animals are used to produce different outcome measures.\\n\\n\\tRefer to *GPower calculation tool for assistance.\\n\\n\\tThere are a minority of instances where Power calculations are not possible. In such instances, applicants need to fully justify to the AEC how the proposed animal use meets, but does not exceed, the experimental goals.\\n\\n\\n\\nFor each power calculation, the following information is required:\\n\\n(Note: if different calculations are required for different experiments within the project, please copy this table and complete a separate table for each calculation)\\n\\n(a) What is the key outcome measure of interest?\\n\\n(Note: Nominate a single measure, i.e. the key one used to determine the group size)\\n\\nChanges in duodenal mRNA levels for associated with early apoptotic signalling due to chemotherapy.\\n\\n\\n\\n(b) What is the effect size of minimum biological significance?\\n\\n36% increase in villus height (from small intestine) between chemotherapy only and chemotherapy plus inhibitor\\n\\n(c) What is the estimated standard deviation (SD) of this outcome measure?\\n\\n(Note: An estimate of the SD can be derived from personal experience, from previously published work by others, from pilot data, or from the results of related experiments)\\n\\n15%\\n\\n(d) What power level (1-beta) and statistical significance (alpha) will be employed?\\n\\n(Note: a combination of high power and stringent significance greatly increases sample size. Where appropriate, please justify)\\n\\nPower 80%, considered significant when p is less than 0.05\\n\\n(e) What statistical test will be employed for data analysis? And, will data be analysed using a one- or\\n\\ntwo-sided test?\\n\\nNote: If applicants plan to use sequential sampling and testing (e.g. the variable-criteria Sequential-Stopping Rule) to ensure that no more than the minimal number of animals will be used, please indicate here and in question 3.11\\n\\nANOVA with main effects and interactions (two- sided) will be used to analyse (with Tukey’s post-test for individual comparisons between groups). Should the data be skewed so that it no longer fits a normal\\n\\ndistribution, a non-parametric Kruskal Wallis test will be used (with Dunn’s post-test for individual comparisons between treatment groups).\\n\\n(f) What is the group size? How was this derived?\\n\\nN=11/group/gender. Previous experience demonstrated that 25% increase in villous height is biologically relevant. With power of 0.8, we determined that n=11 was required.\\n\\nA copy of any calculation/output must be attached to this application; the Committee will not review the application without this attachment (unless a power calculation is not applicable).\\n\\n\\n\\n\\t\\tF tests - ANOVA: Fixed effects, omnibus, one-way Analysis:\\tA priori: Compute required sample size Input:\\tEffect size f\\t= 0.36\\n\\n\\tα err prob\\t= 0.05\\n\\n\\tPower (1-β err prob)\\t= 0.8\\n\\n\\tNumber of groups\\t= 12\\n\\n\\t\\tOutput:\\tNoncentrality parameter λ\\t= 17.4960000 Critical F\\t= 1.9084881\\n\\n\\tNumerator df\\t= 10\\n\\n\\tDenominator df\\t= 123\\n\\n\\t\\t\\tTotal sample size\\t\\t= 132 Actual power\\t=\\t0.8007883\\n\\n\\n\\n\\tIf a power calculation is not applicable, (e.g. collection of tissue samples for in vitro experiments), explain how the animal numbers have been calculated.\\n\\n\\n\\nN/A\\n\\n\\n\\n\\tIs the acquisition, retention or use of the animals subject to any permit, law or regulation of the State or Commonwealth?\\n\\nOther than regulations governing the treatment of animals in South Australia in accordance with the Animal Welfare Act 1985 and the Animal Welfare Regulations 2012 (e.g. protected native or imported species)\\n\\n\\t\\tYes\\t☒ No\\n\\nIf Yes, please provide details of the permit number and permit holder:\\n\\n\\n\\n\\n\\n\\n\\n\\t\\tETHICS AND WELFARE\\n\\n\\tProcedure category (select all appropriate categories)\\n\\n\\n\\n☐\\n\\nObservational Studies (e.g. behavioural study; feeding trial; pitfall trapping; obtaining weights and body measurements)\\n\\n☐\\n\\nAnimal Unconscious: No Recovery; Animal killed prior to commencement of project or\\n\\nkilled while under general anaesthetic (e.g. killing animals for voucher specimens or in vitro research studies)\\n\\n☒\\n\\nMinor Conscious Intervention: No Anaesthesia (e.g. injections; leg-banding; blood sampling; fitting radio-collars; attaching transmitters with glue or tape; toe or ear clipping for identification purposes; implanting microchips without anaesthesia)\\n\\n☒\\n\\nMinor Procedures with Recovery (e.g. Organ biopsies; attaching radio-collars or\\n\\ntransmitters under anaesthesia; implanting microchips under anaesthesia; removing teeth; micro CT)\\n\\n☐\\n\\nMajor Surgery with Recovery (e.g. bone or abdominal surgery; surgery involving major organs)\\n\\n☐\\n\\nMinor Physiological Challenge (e.g. minor infection; minor or moderate genetic deformity; early oncogenesis; residue testing)\\n\\n☒\\n\\nMajor Physiological Challenge (e.g. major infection; advanced oncogenesis, with or without metastases; environmental deprivation for extended periods)\\n\\n☐\\n\\nDeath as an Endpoint (e.g. lethality testing; vaccine testing where death is a planned and necessary part of the study (see Code definition and clause 1.13))\\n\\n\\tProcedural Pain/Distress (select all appropriate categories)\\n\\n\\n\\n\\n\\nPain and/or\\n\\nDistress Category\\n\\nProcedures\\n\\nExtent and Duration of Pain/Distress\\n\\n☒\\n\\nNone\\n\\nIP injection under anaesthesia\\n\\nOnce\\n\\n\\n\\n☒\\n\\n\\n\\nMild\\n\\nOral gavage\\n\\nDaily for 5 to 7 days\\n\\n\\n\\n\\n\\nAnaesthetising mice for IP injection\\n\\nOnce\\n\\n\\n\\n☒\\n\\n\\n\\n\\n\\nModerate\\n\\nIntestinal damage caused by chemotherapy\\n\\nUp to 2 days\\n\\n\\n\\n\\n\\n\\n\\n\\n\\n☐\\n\\nSubstantial\\n\\n\\n\\n\\n\\n☐\\n\\nSevere\\n\\n\\n\\n\\n\\n\\n\\n\\n\\n(Animals in this\\n\\ncategory must be humanely killed)\\n\\n\\n\\n\\n\\n\\n\\n\\tSubstances to be administered\\n\\n\\n\\nAdministered substance\\n\\nDose Rate (mg/kg)\\n\\nConcentration (mg/ml) and vehicle\\n\\nTotal Volume to be Administered\\n\\nFrequency\\n\\nRoute Administered & needle size\\n\\nPotential adverse effects of administration\\n\\nAnaesthetic Agents\\n\\nIsoflurane\\n\\nDelete this row if not applicable\\n\\nAs per CAF Procedure WI-CAF-E-14\\n\\n\\n\\nInhalation\\n\\nRespiratory depression;\\n\\nhypotension; rapid\\n\\n\\n\\n\\n\\n\\n\\n\\n\\nloss of body heat\\n\\nPost-Operative Analgesia\\n\\n\\n\\n\\n\\n\\n\\n\\n\\n\\n\\n\\n\\n\\n\\nTranquillisers\\n\\n\\n\\n\\n\\n\\n\\n\\n\\n\\n\\n\\n\\n\\n\\nAntibiotics\\n\\n\\n\\n\\n\\n\\n\\n\\n\\n\\n\\n\\n\\n\\n\\nResearch Compounds / Test Substances / Devices / Biologicals\\n\\n\\n\\nVD1-6\\n\\n\\n\\n500ng/gBW,\\n\\nA 20g mouse will receive 10ng in\\n\\n0.5ml saline\\n\\n\\n\\n0.5 ml\\n\\n\\n\\nOnce daily\\n\\n\\n\\nOral gavage needle\\n\\nNo adverse effects are expected.\\n\\nOther Substances (including controls)\\n\\nCarboxymethylce\\n\\n0.5%,\\n\\n0.5mg in 100ml\\n\\n0.01ml for oral\\n\\nOnce daily\\n\\nOral gavage\\n\\nNo adverse effects are\\n\\nllulose (CMC) in\\n\\n(0.05mg/kgB\\n\\nsaline\\n\\ngavage per 1g\\n\\n\\n\\nneedle\\n\\nexpected.\\n\\nsaline\\n\\nW)\\n\\n\\n\\nbody weight.\\n\\n\\n\\n\\n\\n\\n\\n5-fluoruracil\\n\\n\\n\\n\\n\\n200ul\\n\\nOnce\\n\\nIntraperitoneal\\n\\nEarly intestinal damage\\n\\n(chemotherapy)\\n\\n\\n\\nA 20g mouse will\\n\\n\\n\\n\\n\\ninjection, 200uL\\n\\n\\n\\n\\n\\n450mg/kgBW\\n\\nreceive 6mg in\\n\\n\\n\\n\\n\\nvolume using\\n\\n\\n\\n\\n\\n\\n\\n200uL saline\\n\\n\\n\\n\\n\\n0.5mL insulin\\n\\n\\n\\n\\n\\n\\n\\n\\n\\n\\n\\n\\n\\nsyringe\\n\\n\\n\\n1,25-\\n\\ndihydroxyvitamin\\n\\nD\\n\\n50pg/gBW\\n\\n1.2ng/0.25ml CMC in saline\\n\\n0.01ml for oral gavage per 1g\\n\\nbody weight.\\n\\n\\n\\nOnce daily\\n\\nOral gavage needle\\n\\nNo adverse effects are expected.\\n\\n19-nor- dihydroxyvitamin\\n\\nD2\\n\\n1000pg/gBW\\n\\n62.5pg /0.25ml CMC in saline\\n\\n0.01ml for oral gavage per 1g\\n\\nbody weight.\\n\\n\\n\\nOnce daily\\n\\nOral gavage needle\\n\\nNo adverse effects are expected.\\n\\n0.2% Calcium\\n\\nAd libitum\\n\\n0.2% Calcium\\n\\nAd libitum\\n\\nFor the\\n\\nDietary\\n\\nnil\\n\\nSemi-\\n\\n\\n\\n\\n\\n\\n\\nduration of\\n\\nfeeding in\\n\\n\\n\\nsynthetic diet\\n\\n\\n\\n\\n\\n\\n\\nexperimen\\n\\nhoppers\\n\\n\\n\\n\\n\\n\\n\\n\\n\\n\\n\\ntation\\n\\n\\n\\n\\n\\nHumane Killing Agents\\n\\nCO2\\n\\nDelete this row if not applicable\\n\\nAs per SOP-CAF-P-02\\n\\nOnce\\n\\nInhalation\\n\\nRapid respiration, lack of movement, death occurs due to respiratory\\n\\nfailure\\n\\n\\n\\n\\tWhat experience do you have in using these substances?\\n\\nWe have extensive experience using isoflurane anaesthesia. We also have extensive experience using 5-FU to induce chemotherapy-induced mucositis. We have performed safety studies with VD1-6 previously. We have not administered 1,25-dihydroxyvitamin D or 19-nor-dihydroxyvitamin D2 by oral gavage before. However, we have previously delivered 1,25-dihydroxyvitamin D by both SC injection or mini-osmotic pumps over 7+ days without adverse effects. We have used Carboxymethylcellulose (CMC) in saline as vehicle for oral gavage in the previous studies without adverse effects.\\n\\n\\n\\n\\tIf this project involves the use of an administered substance/ compound for which you do not have full knowledge of its effects, how are you going to manage this (e.g. perform a Pilot Study)?\\n\\nWe have knowledge of all compounds delivered mice. The oral delivery of vitamin D compounds has been previously extensively studied, but not in the context of chemotherapy. While we do not anticipate any adverse effects, we will start with a limited numbers of male and female mice. The first round of experiments will assess the 5 daily doses of the single doses of 1,25-dihydroxyvitamin D or 19-nor-dihydroxyvitamin D2 and 6-hour exposure to 5-FU. A key measure is serum calcium levels which can be assessed the following day after experimentation. We will use this measure to determine whether serum calcium levels are within a normal physiological range. Assuming the first rounds of experimentation are successful, we will fill out the remaining experimental groups.\\n\\n\\n\\n\\tIf this is a disease model, include a description of how the model works. Detail the effects of progression of the disease process, identify humane endpoints, and explain your previous experience with the model.\\n\\n\\n\\nThis is not a disease model, but rather a model of treatment toxicity. We have previously used C57black6 mice to investigate 5FU-induced mucositis, achieved with a sub-lethal single dose of 450mg/kg BW of 5FU with an end point of 48 hours post 5FU dose. No severe pain or discomfort to the animals was observed over the study period.\\n\\n\\n\\n\\tDetail the monitoring that will be made of the animals during the experiment, especially if surgery is performed or illness is being induced.\\n\\nNote: Once-daily monitoring should be carried out between 7 a.m. and 7 p.m., and as close to 24- hourly as is practicable\\n\\nAttach your Clinical Record Sheet(s)/Maintenance Monitoring Sheet at the end of this document and identify who will complete it and at what frequency. Ensure that the observation criteria and humane intervention/end points in the CRS are consistent with those detailed in Q3.6 and Q3.7\\n\\nA Cover Sheet should always be included. Exemplar Cover and Monitoring sheets may be downloaded from the Animal Ethics Webpages:\\n\\nhttps://mymailunisaedu.sharepoint.com/teams/rch/ris/animalethics/Pages/aec.aspx\\n\\n\\n\\nMice will be weighed and monitored daily for the duration of the study. Furthermore, mice will be monitored immediately after, and 2 hours post gavage. Mice will be monitored\\n\\n\\n\\nimmediately after IP injection and mice that receive 5-FU will be monitored twice on the day of injection. Clinical sings that will be monitored: ruffled coat, skin tenting/sunken eyes, lack of movement when stimulated, abnormal breathing, diarrhoea and hunching. If a mouse is found to be displaying signs of pain or distress it will be isolated and placed on a heat pad and given soaked food. If an animal scores 1 in any category mice will be monitored daily. If a score of 2 or 3 is recorded the University Vet will be called to observe the animal and monitoring will increase up to 3 times a day. A score of 4 or above mice will immediately be humanely culled.\\n\\n\\n\\n\\tList & describe any expected adverse effects of this project\\n\\n\\t\\tDescribe the effects of the full protocol (as opposed to effect of individual procedures) that you expect to see, and how these will be displayed by the animal\\n\\n\\t\\tInclude expected adverse effects of administered substances and of procedures that may necessitate premature euthanasia\\n\\n\\t\\tIf there is an expected mortality rate associated with this project, please explain and justify each possible cause of mortality. Attach a Running Mortality Sheet to the application; this can be downloaded from https://mymailunisaedu.sharepoint.com/teams/rch/ris/animalethics/Pages/aec.aspx\\n\\n\\n\\nThe effect of 5-FU over 6 hours is not likely to manifest in intestinal distress that results in weight loss. However, the effect at 48 hours may induce transient gastrointestinal distress where we may see diarrhoea. Monitor will occur 2 hours after IP injections for any change in animal behaviour. If diarrhoea occurs, then water will be added to the feed to help with hydration.\\n\\n\\n\\nAny mouse with a score of 1 will receive a subcutaneous injection of saline (0.5mL)). A score of 1 or more for profuse/bloody diarrhoea will require consultation with the University Veterinarian and follow advice. Given the short nature of the experiment, it is unlikely that weight loss will occur, which needs attention. However, a weight loss of ≥10% will result in veterinary advice being sought, and ≥15% will be sought immediately or immediately removed from the study and humanely killed.\\n\\n\\n\\nTreatment of vitamin D compounds are aimed at preventing gut damage due from chemotherapy. However, it is possible that vitamin D treatment itself may cause transient hypercalcemia. The doses and duration of treatment with vitamin D compounds are chosen not to cause hypercalcemia.\\n\\n\\n\\nOral gavage may cause oesophageal trauma or aspiration pneumonia. However, the gavage needle size is purchased to fit the size of the animal and are made of soft plastic. If trauma to the oesophageal occurs the uni vet will be called to check the animal.\\n\\n1,25-dihydroxyvitamin D3 oral administration has been shown to cause transient moderate hypercalcemia. However, the dose rate and duration the mice will receive has been shown not to cause hypercalcemia. Transient moderate hypercalcemia does not cause adverse effects and will not cause mortality.\\n\\nOral 19-nor-dihydroxyvitamin D3 does not cause hypercalcemia.\\n\\nVD1-6 does not cause hypercalcemia when administered at this or higher concentrations or longer durations of treatments.\\n\\nThe combinations of 1,25-dihydroxyvitamin D3 and VD1-6, or 19-nor-dihydroxyvitamin D3 and VD1-6 may cause transient hypercalcemia.\\n\\n\\n\\n\\n\\n\\tPre- and post-operative care (for projects involving surgery)\\n\\n\\n\\nN/A\\n\\n\\n\\n\\tWhat will happen to the animal at the end of the procedure or project?\\n\\n\\t\\tIf it is to be humanely killed, what method is to be used?\\n\\n\\t\\tHow will you determine the animal is dead? (Note: exsanguination under anaesthesia does not ensure death; a method to ensure death must be employed.)\\n\\n\\t\\tAre there any special requirements for disposal of this carcass (e.g. cytotoxic, infectious)?\\n\\n\\t\\tIf animals are not to be humanely killed at the end of the experiment, what is to happen to them?\\n\\n\\n\\n\\n\\nAnimals will be anaesthetised to be able to collect blood via cardiac puncture, immediately followed by cervical dislocation. . The remaining carcass will be disposed of using the cytotoxic biohazard waste supplied per the CAF cytotoxic SOP.\\n\\n\\n\\n\\n\\n\\tPlease discuss the ethical issues that the AEC will need to consider when reviewing this proposed experimentation. Your answer should address the 3Rs, Replacement, Reduction & Refinement. (See Clauses 1.18–1.30 of the Code).\\n\\n“Not applicable” is not acceptable.\\n\\nMake sure each of the dot points is addressed\\n\\n\\n\\n1. Ethical Issues\\n\\n1A) What is the welfare cost to the animal? Discuss the overall, i.e. cumulative, impact of the protocol\\n\\n1B) What is the justification for this level of pain/distress?\\n\\nTip: Start with the welfare cost to the animal, not the research benefit (i.e. follow the question order). This is your chance to articulate the cost- benefit.\\n\\nThis is a short term study and effects of minimal (5 or 7) daily oral gavage and chemotherapy are expected to be minimal. The use of Vitamin D, a compound that is approved for consumption with out prescription, as a therapeutic to chemotherapy patients experiencing mucositis has been shown to reduce the progression of chemotherapy induced intestinal mucositis.\\n\\n\\n\\nTreatment of vitamin D compounds are aimed at preventing gut damage from chemotherapy. However, it is possible that vitamin D treatment itself may cause transient hypercalcemia. The doses and duration of treatment with vitamin D compounds are chosen not to cause hypercalcemia.\\n\\n\\n\\nThe novel vitamin D compounds are hypothesised to be a protective agent on the intestine during the chemotherapy treatment and therefore are expected to have minimal welfare cost to the animal alone, however the chemotherapy agent has the potential to cause moderate pain and distress. Any acute effects will be managed via CRS. The cost/benefit of the planned studies is favourable as the knowledge gained will impact clinical studies in which potential new options for maintaining or increasing vitamin D levels could be administered for intestinal health during chemotherapy treatment.\\n\\n\\n\\n\\n\\n\\n\\nWhile we do not anticipate any adverse effects, we will start with a limited numbers of male and female mice. The first round of experiments will assess the 5 daily doses of the single doses of 1,25-dihydroxyvitamin D or 19-nor- dihydroxyvitamin D2 and 6-hour exposure to 5-FU. Assuming the first rounds of experimentation are successful, we will fill out the remaining experimental groups.\\n\\n2. Reduction:\\n\\nTip: This should include how the power calculation relates to the numbers of animals requested, sharing of controls, randomisation and blinding, re-use of animals (carefully justified!), other designs (washout phase, crossover) if they reduce animal numbers.\\n\\nA power calculation has determined the number of mice to be the minimum number to give statistically significant results with appropriate controls based on 80% power with significance set at a p-value of less than 0.05. The values used in the power calculation are derived from previous gastrointestinal tract studies using 5-FU and the expected means and standard deviations of mRNA levels of recognised genes associated with gastrointestinal damage. Our tissue collection and subsequent experimentation techniques are also of such a high standard that we do not use additional numbers to account for collection, storage or experimentation ‘errors’ that may result in the loss of samples.\\n\\n\\tRefinement:\\n\\n\\tInclude steps that will be taken to mitigate the stressors discussed in Q3.11.1\\n\\n\\tInclude any other actions that will be taken to improve wellbeing\\n\\nTip: Focus on the animal’s experience\\n\\nand what will support its wellbeing.\\n\\nWe have been working with chemotherapy-induced mucositis for over 14 years. Our experimentation techniques have been refined over this time, so we can now minimise the pain and distress caused to the animals as much as possible. We have determined that this is the most appropriate model for investigating treatments for chemotherapy-induced gastrointestinal damage. Heat mats will be used if mice are cold to touch to help maintain body temperature. Mice are monitored, and any situation of discomfort will be addressed if required.\\n\\n\\tReplacement Consideration of Alternatives\\n\\nYour response should include the following:\\n\\n\\tA list of any potential alternatives to animal use\\n\\n\\tWhether any of these alternatives would be used\\n\\n\\tDetails of literature searches you have undertaken including databases searched and key words used)\\n\\nThis answer should explain why animals need to be used at all.\\n\\nWe have tested compounds in an in vitro setting to test compound effects on intestinal epithelial cells. These compounds appear to have positive impacts on intestinal cells. However, to test a novel compound on the intestine as a whole organ, there is no replacement for the proposed mouse model. We have also confirmed this with literature searches in Medline databases (carried out August 2022).\\n\\nSearch terms used were 5-FU, mucositis, and vitamin D.\\n\\n\\n\\n\\t\\tOTHER INFORMATION\\n\\n\\tIn what way does this application relate to your previous or concurrent work? What new information or understanding will this project provide?\\n\\n\\n\\nIt is useful for the AEC to understand how this proposal fits into the broad research strategy/interest of your group. If this application relates to previous projects approved by this or another AEC, please include a summary of the previous work and explain how this project relates to the previous work.\\n\\n\\n\\nThe current study addresses the hypothesis that vitamin D treatments prevents chemotherapy- induced mucositis. The study also aims to compare the effect of VD1-6 with active vitamin D administration. This study also expands on the delivery method for VD1-6 (oral) as an effective mode of therapy, building on previous studies which show that VD1-6 prevents chemotherapy-induced mucositis under normal conditions. Furthermore, successful completion of the proposed study will define the requirements for future studies where the hypotheses address the effects of VD1-6 in cancer and mortality.\\n\\n\\n\\n\\n\\n\\tPublished articles relevant to this application\\n\\nSoares PM et al (2013) Inflammatory intestinal damage induced by 5-fluorouracil requires IL-\\n\\n4. Cytokine 61(1):46-9\\n\\n\\n\\nRando M, et al (2018) Chemotherapeutic agent 5-fluorouracil increases survival of SOD1 mouse model of ALS. PLoS One Jan 14;14(1):e0210752\\n\\n\\n\\nKusunoki Y, et al (2015) Excess 25-hydroxyvitamin D3 exacerbates tubulointerstitial injury in mice by modulating macrophage phenotype, Kidney International 88, 1013–1029\\n\\n\\n\\nCarmen J. Reynolds et al (2018) Localization of the 1,25-dihydroxyvitamin D-mediated response in the intestines of mice. J Steroid Biochem Mol Biol. 2019 Feb; 186: 56–60.\\n\\n\\n\\n\\tDo you propose to publish the results? If not, please explain why.\\n\\nYes\\n\\n\\n\\n\\tWhat peer review process has been used for this application?\\n\\nSubject of an NHMRC project\\n\\n\\n\\n\\tDoes this project require any other UniSA Committee approvals?\\n\\nSuch as Institutional Biosafety Committee (IBC), Human Research Ethics Committee (HREC), University Chemical Advisory & Safety Committee (UCASC), Radiation Safety Committee\\n\\n\\t\\tYes\\t☒ No\\n\\nIf yes, please confirm that the application submitted to the other committee(s) included details of the work to be done in animals and complete the details in Q4.7.\\n\\n\\n\\n\\n\\n\\tDoes this project involve the use of unsealed radioisotopes?\\n\\n\\t\\tYes\\t☒ No\\n\\nIf yes, please indicate:\\n\\n\\n\\n\\tthe radioisotope\\n\\n\\tthe amount to be used at any one time\\n\\n\\twhat precautions will be taken\\n\\n\\twhether other staff involved with the experiment have been notified\\n\\n\\tthe name of the licensed operator who will oversee the use of the radioactive material\\n\\n\\n\\n\\tOther safety and regulatory matters\\n\\n\\n\\n\\n\\n\\n\\nCommittee\\n\\nTick an option\\n\\nIf “Yes”, state permit no. and expiry\\n\\ndate\\n\\nIonising radiation? (Sealed sources)\\n\\nE.g. X-Ray or Gamma\\n\\nType of radiation:\\n\\nRadiation Safety Officer\\n\\n☒ Not Applicable\\n\\n\\tYes\\n\\n\\tPending*\\n\\n\\n\\nHazardous substances? E.g.\\n\\n\\tChemicals with a Hazard Rating of 4 for toxicity, reactivity or chronic\\n\\n\\tCytotoxic drugs,\\n\\n\\tCarcinogens or Reprotoxins (categories 1A or 1B)\\n\\n\\tCarbon nanotubes or other engineered nanomaterials\\n\\nChemical or administered substance:\\n\\n5-FU\\n\\nUCASC or\\n\\nOther\\n\\n\\tNot Applicable\\n\\n☒ Yes\\n\\n\\tPending*\\n\\n\\n\\n003615\\n\\nExp 14/05/2025\\n\\nPathogenic organisms?\\n\\nAgent:\\n\\nIBC or Other\\n\\n☒ Not Applicable\\n\\n\\tYes\\n\\n\\tPending*\\n\\n\\n\\nGenetically Modified Organisms?\\n\\nOrganisms:\\n\\nIBC\\n\\n☒ Not Applicable\\n\\n\\tYes\\n\\n\\tPending*\\n\\n\\n\\nHealth risks to staff?\\n\\nHow affected?\\n\\nRisks associated with cytotoxics. Considered minimal with use of PPE and cytotoxic facility.\\n\\nUCASC, IBC\\n\\nor Other\\n\\n\\tNot Applicable\\n\\n☒ Yes\\n\\n\\tPending*\\n\\n003615\\n\\nExp 14/05/2025\\n\\nHealth risks to other animals?\\n\\nHow affected?\\n\\nUCASC, IBC\\n\\nor Other\\n\\n☒ Not Applicable\\n\\n\\tYes\\n\\n\\tPending*\\n\\n\\n\\nHuman subjects or cells?\\n\\n\\n\\nHREC\\n\\n☒ Not Applicable\\n\\n\\tYes\\n\\n\\tPending*\\n\\n\\n\\nDrugs of Dependence? (Schedule 8 Drugs)\\n\\nAdministered substance:\\n\\nSA Health\\n\\n☒ Not Applicable\\n\\n\\tYes\\n\\n\\tPending*\\n\\n\\n\\nAre the animals administered any substance, compound or biological product that was imported under a DAWR permit to import quarantine material?\\n\\nhttp://www.agriculture.gov.au/import If Yes:\\n\\n\\tHave you discussed the matter with the appropriate institutional DAWR Licence Compliance Officer?\\n\\n\\tWhat is the Permit Number?\\n\\n\\t\\tYes\\t☒ No\\n\\n\\n\\n\\n\\nIf NO: should the source of your material change, you must\\n\\ninform the institutional DAWR Compliance Officer/IBC and you must inform the approving Animal Ethics Committee in writing.\\n\\n\\n\\n\\n\\n* Note that projects may not commence until all required approvals are in place.\\n\\n\\n\\n\\tCredentials of all those involved in the project\\n\\n\\n\\n\\n\\nName and Qualification\\n\\nList the individual procedure(s)\\n\\nthis person will be performing\\n\\nFor each procedure listed, indicate if the\\n\\nperson is competent (Y/N)\\n\\nDetail the training & supervision that will be given prior\\n\\nto competency, if applicable\\n\\nDate this person completed an\\n\\nAnimal Ethics Course\\n\\nPrimary Applicant\\n\\nA/Prof Paul Anderson\\n\\n\\n\\nmonitoring Weighing Anaesthesia Cardiac blood and sample collection Humane killing\\n\\n\\n\\n\\n\\n\\n\\n\\n\\nYes to all\\n\\n\\n\\nFeb 2022\\n\\nCo-applicant\\n\\nRebecca Sawyer\\n\\nIP Injections Monitoring Weighing Anaesthesia Cardiac blood and sample collection Humane killing\\n\\nGavage\\n\\n\\n\\n\\n\\n\\n\\n\\n\\nYes to all except gavage\\n\\nTraining for gavage will be booked with CAF once approval is granted\\n\\nFeb 2022\\n\\nOther Applicants\\n\\nDr Andrea Stringer\\n\\nIP injections monitoring Weighing Anaesthesia Cardiac blood and sample collection\\n\\nHumane killing\\n\\n\\n\\n\\n\\n\\n\\n\\n\\nYes to all\\n\\n\\n\\nOct 2022\\n\\n\\n\\nMs Fizza Munem\\n\\nIP Injections monitoring Weighing Anaesthesia Cardiac blood and sample collection Humane killing\\n\\n\\n\\n\\n\\n\\n\\n\\n\\nYes to all\\n\\n\\n\\nMarch 2022\\n\\n\\n\\nMrs Helen\\n\\nTsangari\\n\\nGavage\\n\\nIP injections\\n\\nYes to all except gavage\\n\\nTraining for gavage will be booked\\n\\nJuly 2019\\n\\n\\n\\n\\n\\n\\n\\nmonitoring Weighing Anaesthesia Cardiac blood and sample\\n\\ncollection Humane killing\\n\\n\\n\\nwith CAF once approval is granted\\n\\n\\n\\n\\n\\nDr Anthony Wignall\\n\\nGavage\\n\\n\\n\\n\\n\\n\\n\\n\\n\\n\\n\\n\\n\\n\\n\\nYes\\n\\nAnthony has years of experience gavaging mice at other institutions but has not yet been deemed competent by CAF staff. Training is being organised and he will not partake in the study until deemed\\n\\ncompetent.\\n\\nJuly 2021\\n\\n\\n\\nPhir Thianhlun\\n\\nGavage\\n\\nIP injections monitoring Weighing Anaesthesia Cardiac blood and sample collection\\n\\nHumane killing\\n\\n\\n\\n\\n\\n\\n\\n\\n\\nNo to all\\n\\nPhir will obtain training from the CAF in all procedures\\n\\nFeb 2023\\n\\n\\n\\n\\n\\n\\n\\n\\n\\n\\n\\n\\n\\n\\n\\n\\tDual/multiple AEC approval\\n\\nIs approval by more than one AEC required?\\n\\n\\t\\tYes\\t☒ No\\n\\nIf so, which AEC(s)?\\n\\n\\n\\n\\n\\n\\tAttachments checklist\\n\\n\\n\\nType\\n\\nAttachment\\n\\n1. Flow Chart\\n\\n\\t☒ Yes\\t☐ No\\n\\n2. Clinical Record Sheets\\n\\n\\t☒ Yes\\t☐ No\\n\\n3. Maintenance Monitoring Sheets\\n\\n\\t\\tYes\\t☐ No\\n\\n\\n\\n4. Running Mortality Sheets\\n\\n\\t\\tYes\\t☐ No\\n\\n5. Power Calculation\\n\\n\\t☒ Yes\\t☐ No\\n\\n6. Relevant SOPs\\n\\n\\t\\tYes\\t☐ No\\n\\n7. Publications\\n\\n\\t\\tYes\\t☐ No\\n\\n8. Other\\n\\nPlease detail:\\n\\n\\t\\tYes\\t☐ No\\n\\n\\n\\n\\t\\tDeclarations\\n\\n\\n\\n\\n\\nProject Title:\\n\\nOral delivery of vitamin D analogues in chemotherapy‐induced\\n\\ngastrointestinal mucositis.\\n\\nSection 1: Declaration by the Primary Applicant\\n\\nNote: This section must be signed prior to submission for AEC review\\n\\nI hereby declare that:\\n\\n\\tI and all others involved in this project are familiar with and will comply with the relevant Commonwealth and State or Territory legislation and the requirements of the Australian Code for the care and use of animals for scientific purposes, 8th Edition 2013 (The Code)\\n\\n\\t\\tTo the best of my knowledge this proposal conforms to the Code (8th Edition 2013) and the South Australian Animal Welfare Act 1985.\\n\\n\\t\\t\\tI have read Section 2 of the Code which sets down the responsibilities of investigators. I accept responsibility for the conduct of all procedures detailed in this application and for the supervision of all personnel delegated to perform any such procedures.\\n\\n\\t\\tI agree to comply with procedures described and any conditions imposed by the Animal Ethics Committee.\\n\\n\\t\\tSufficient and adequate resources will be available to undertake the proposed study.\\n\\n\\t\\tI acknowledge that this application and any information relating to it may be shared by South Australian Animal Ethics Committees and the Animal Welfare Unit within the Department of Environment and Water for the purposes of administration, approval and monitoring.\\n\\n\\n\\nPrimary Applicant's Name\\n\\nPrimary Applicant's Signature\\n\\nDate\\n\\n\\n\\nPaul Anderson\\n\\n\\n\\n\\n\\n29/5/2023\\n\\n\\n\\nCo-applicant's Name\\n\\nCo-applicant's Signature\\n\\nDate\\n\\n\\n\\nRebecca Sawyer\\n\\n\\n\\n\\n\\n\\n\\n29/5/2023\\n\\n\\n\\nSection 2: Other Applicants’ Declaration\\n\\nNote: This section must be signed prior to AEC approval being finalised\\n\\nI hereby declare that:\\n\\n\\t\\tI am familiar with and will comply with the relevant Commonwealth and State or Territory legislation and the requirements of the Australian Code for the care and use of animals for\\n\\n\\n\\nscientific purposes, 8th Edition 2013 (The Code) and the South Australian Animal Welfare Act 1985 and its regulations.\\n\\n\\tI have read the application and I accept the responsibilities detailed therein to the extent of my involvement in this project.\\n\\n\\n\\nOther Applicant's Name\\n\\nOther Applicant's Signature\\n\\nDate\\n\\n\\n\\nAndrea Stringer\\n\\n\\n\\n\\n\\n\\n\\n29/5/2023\\n\\n\\n\\nHelen Tsangari\\n\\n\\n\\n\\n\\n29/5/2023\\n\\n\\n\\nPhir Thianhlun\\n\\n\\n\\n\\n\\n\\n\\n29/5/2023\\n\\n\\n\\nAnthony Wignall\\n\\n\\n\\n\\n\\n29/5/2023\\n\\n\\n\\nSection 3: Declaration by the Institution’s Nominated Authority (not the Primary Applicant) i.e. Head of School / Institute Director / Executive Dean\\n\\nNote: This section must be signed prior to submission for AEC review\\n\\nI hereby declare that:\\n\\n\\n\\n\\tI am satisfied that the Primary Applicant has the appropriate qualifications and experience to carry out the work with minimum distress to the animals.\\n\\n\\tI believe this work meets the requirements of the Australian Code for the care and use of animals for scientific purposes, 8th Edition 2013 (The Code) and the South Australian Animal Welfare Act 1985 and its regulations.\\n\\n\\tI have read the application and I am satisfied that this work is of sufficient scientific merit for my Department to be involved in it and sufficient and adequate resources will be available to undertake the proposed study.\\n\\n\\n\\nApproved Grant Funding Confirmed OR\\n\\n\\t☒ Yes\\t☐ No (Refer to Page 1)\\n\\nApproved Industry Funding Confirmed OR\\n\\n\\t\\tYes\\t☐ No (Refer to Page 1)\\n\\nCost Centre Code Confirmed\\n\\n\\t☒ Yes\\t☐ No (Refer to Page 1)\\n\\n\\n\\nNominated Authority\\n\\nSignature\\n\\nDate\\n\\n\\n\\nAlan Boddy\\n\\n\\n\\n\\n\\n\\n\\n2/6/2023\\n\\n\\n\\nSection 4: Signature of Facility Manager (or delegate)\\n\\nNote: This section must be signed prior to submission for AEC review\\n\\n\\n\\nNominated Authority\\n\\nSignature\\n\\nDate\\n\\n\\n\\n\\n\\nMike Hill\\n\\n\\n\\n\\n\\n\\n\\n\\n\\n2/6/2023\\n\\n\\n\\nAEC Use Only\\n\\nDate Received: 11/7/23\\n\\nAction Taken:\\n\\n\\n\\nAEC Executive (Batch #32) approved the changes requested by the AEC (June meeting) and will be ratified at the next AEC meeting (August 2023)\\n\\n\\n\\nDate of AEC meeting for consideration: 13/7/23\\n\\nSignature of Chair, AEC\\n\\n\\n\\n\\n\\n\\n\\n\\n\\n\\n\\n\\n\\n\\n\\nResearch Project Application Form, UniSA Version April 2021\\n\\nPage 22 of 22\""
            ]
          },
          "execution_count": 15,
          "metadata": {},
          "output_type": "execute_result"
        }
      ],
      "source": [
        "result1"
      ]
    }
  ],
  "metadata": {
    "colab": {
      "provenance": [],
      "authorship_tag": "ABX9TyMfggxkYnSY83xyBYP01jhv",
      "include_colab_link": true
    },
    "kernelspec": {
      "display_name": "Python 3",
      "name": "python3"
    },
    "language_info": {
      "name": "python"
    }
  },
  "nbformat": 4,
  "nbformat_minor": 0
}